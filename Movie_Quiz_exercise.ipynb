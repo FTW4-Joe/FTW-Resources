{
  "nbformat": 4,
  "nbformat_minor": 0,
  "metadata": {
    "colab": {
      "name": "Movie_Quiz_exercise.ipynb",
      "provenance": [],
      "collapsed_sections": []
    },
    "kernelspec": {
      "name": "python3",
      "display_name": "Python 3"
    }
  },
  "cells": [
    {
      "cell_type": "markdown",
      "metadata": {
        "id": "KMeTfulwlfHD",
        "colab_type": "text"
      },
      "source": [
        " **Movie Trivia Quiz**\n",
        " ==="
      ]
    },
    {
      "cell_type": "markdown",
      "metadata": {
        "id": "RHb4fdNUmuvI",
        "colab_type": "text"
      },
      "source": [
        "**Asking Player's Name**"
      ]
    },
    {
      "cell_type": "code",
      "metadata": {
        "id": "sso0qwefRhji",
        "colab_type": "code",
        "colab": {
          "base_uri": "https://localhost:8080/",
          "height": 68
        },
        "outputId": "673dbfe5-5371-4983-ccef-e79a0be2ae1e"
      },
      "source": [
        "player_name = input(\"Please tell me your name: \").title()\n",
        "\n",
        "#Storing player_name\n",
        "print(\"Hi there \"+ player_name +\"! Welcome to Movie Trivia.\\n======>>>Let's get started!<<======\")"
      ],
      "execution_count": null,
      "outputs": [
        {
          "output_type": "stream",
          "text": [
            "Please tell me your name: joe\n",
            "Hi there Joe! Welcome to Movie Trivia.\n",
            "======>>>Let's get started!<<======\n"
          ],
          "name": "stdout"
        }
      ]
    },
    {
      "cell_type": "code",
      "metadata": {
        "id": "o7V2uPHakrfU",
        "colab_type": "code",
        "colab": {}
      },
      "source": [
        "correct_score = 0  #Storing points for each correct answer"
      ],
      "execution_count": null,
      "outputs": []
    },
    {
      "cell_type": "markdown",
      "metadata": {
        "id": "aZOSREO8lNgd",
        "colab_type": "text"
      },
      "source": [
        "**Question and Choices**"
      ]
    },
    {
      "cell_type": "code",
      "metadata": {
        "id": "CkA7BTFSkwYx",
        "colab_type": "code",
        "colab": {
          "base_uri": "https://localhost:8080/",
          "height": 119
        },
        "outputId": "978f30c6-6591-4dc6-999f-4404e49533e3"
      },
      "source": [
        "quiz_1 = input(\"\"\"\"What is the highest-grossing film of all time without taking inflation into account?\n",
        "A. Titanic \n",
        "B. Avengers: Endgame\n",
        "C. Avatar\n",
        "D. Star Wars: The Force Awakens\n",
        ">>>> \"\"\").upper()"
      ],
      "execution_count": null,
      "outputs": [
        {
          "output_type": "stream",
          "text": [
            "\"What is the highest-grossing film of all time without taking inflation into account?\n",
            "A. Titanic \n",
            "B. Avengers: Endgame\n",
            "C. Avatar\n",
            "D. Star Wars: The Force Awakens\n",
            ">>>> d\n"
          ],
          "name": "stdout"
        }
      ]
    },
    {
      "cell_type": "code",
      "metadata": {
        "id": "rtktQh-Zk0e6",
        "colab_type": "code",
        "colab": {
          "base_uri": "https://localhost:8080/",
          "height": 119
        },
        "outputId": "cffd13f1-bb98-4f17-e711-bc0ba286eb13"
      },
      "source": [
        "quiz_2 = input(\"\"\"Which actor or actress is killed off in the opening scene of the movie Scream? \n",
        "A. Courtney Cox\n",
        "B. Neve Campbell\n",
        "C. Drew Barrymore\n",
        "D. Rose McGowan\n",
        ">>>> \"\"\").upper()"
      ],
      "execution_count": null,
      "outputs": [
        {
          "output_type": "stream",
          "text": [
            "Which actor or actress is killed off in the opening scene of the movie Scream? \n",
            "A. Courtney Cox\n",
            "B. Neve Campbell\n",
            "C. Drew Barrymore\n",
            "D. Rose McGowan\n",
            ">>>> c\n"
          ],
          "name": "stdout"
        }
      ]
    },
    {
      "cell_type": "code",
      "metadata": {
        "id": "j4pNC62ck-uX",
        "colab_type": "code",
        "colab": {
          "base_uri": "https://localhost:8080/",
          "height": 119
        },
        "outputId": "e86e7617-bdcb-456b-c7d0-4102a90c0243"
      },
      "source": [
        "quiz_3 = input(\"\"\"\"Which film did Steven Spielberg win his first Oscar for Best Director?\n",
        "A. Jaws\n",
        "B. Catch Me If You Can\n",
        "C. E.T.\n",
        "D. Schindler’s List\n",
        ">>>> \"\"\").upper()"
      ],
      "execution_count": null,
      "outputs": [
        {
          "output_type": "stream",
          "text": [
            "\"Which film did Steven Spielberg win his first Oscar for Best Director?\n",
            "A. Jaws\n",
            "B. Catch Me If You Can\n",
            "C. E.T.\n",
            "D. Schindler’s List\n",
            ">>>> d\n"
          ],
          "name": "stdout"
        }
      ]
    },
    {
      "cell_type": "code",
      "metadata": {
        "id": "mFz82bdxlIp1",
        "colab_type": "code",
        "colab": {
          "base_uri": "https://localhost:8080/",
          "height": 119
        },
        "outputId": "c0886658-d7ad-414a-bd22-1c026ac528ad"
      },
      "source": [
        "quiz_4 = input(\"\"\"\"Which film won the first Academy Award for Best Picture?\n",
        "A. All Quiet on the Western Front\n",
        "B. Sunrise\n",
        "C. Wings\n",
        "D. Metropolis\n",
        ">>>> \"\"\").upper()"
      ],
      "execution_count": null,
      "outputs": [
        {
          "output_type": "stream",
          "text": [
            "\"Which film won the first Academy Award for Best Picture?\n",
            "A. All Quiet on the Western Front\n",
            "B. Sunrise\n",
            "C. Wings\n",
            "D. Metropolis\n",
            ">>>> c\n"
          ],
          "name": "stdout"
        }
      ]
    },
    {
      "cell_type": "code",
      "metadata": {
        "id": "GEBcVK55lclH",
        "colab_type": "code",
        "colab": {
          "base_uri": "https://localhost:8080/",
          "height": 119
        },
        "outputId": "cb3330b9-7187-41a0-91b8-5ed024351b3e"
      },
      "source": [
        "quiz_5 = input(\"\"\"\"What is the name of Quint’s shark-hunting boat in Jaws?\n",
        "A. The Whale\n",
        "B. The Orca\n",
        "C. The Dolphin\n",
        "D. The Shark\n",
        ">>>> \"\"\").upper()"
      ],
      "execution_count": null,
      "outputs": [
        {
          "output_type": "stream",
          "text": [
            "\"What is the name of Quint’s shark-hunting boat in Jaws?\n",
            "A. The Whale\n",
            "B. The Orca\n",
            "C. The Dolphin\n",
            "D. The Shark\n",
            ">>>> b\n"
          ],
          "name": "stdout"
        }
      ]
    },
    {
      "cell_type": "markdown",
      "metadata": {
        "id": "zftj5pd2mCi2",
        "colab_type": "text"
      },
      "source": [
        "**Logic Walkthrough - Storing points to correct_score variable**"
      ]
    },
    {
      "cell_type": "code",
      "metadata": {
        "id": "ZMGhDRZWmDDz",
        "colab_type": "code",
        "colab": {
          "base_uri": "https://localhost:8080/",
          "height": 51
        },
        "outputId": "f3ca35d7-db5d-4e69-d47b-6fa56865b7b2"
      },
      "source": [
        "print(quiz_1)\n",
        "if quiz_1 == \"B\":\n",
        "    correct_score +=1\n",
        "    print(\"correct!\")\n",
        "else:\n",
        "    correct_score +=0\n",
        "    print(\"wrong!\")"
      ],
      "execution_count": null,
      "outputs": [
        {
          "output_type": "stream",
          "text": [
            "A\n",
            "wrong!\n"
          ],
          "name": "stdout"
        }
      ]
    },
    {
      "cell_type": "code",
      "metadata": {
        "id": "gjW_06xhmJhv",
        "colab_type": "code",
        "colab": {
          "base_uri": "https://localhost:8080/",
          "height": 51
        },
        "outputId": "21aab5de-bed6-4a2d-8379-e9d9f454beaa"
      },
      "source": [
        "print(quiz_2)\n",
        "if quiz_2 == \"C\":\n",
        "    correct_score +=1\n",
        "    print(\"correct!\")\n",
        "else:\n",
        "    correct_score +=0\n",
        "    print(\"wrong!\")"
      ],
      "execution_count": null,
      "outputs": [
        {
          "output_type": "stream",
          "text": [
            "C\n",
            "correct!\n"
          ],
          "name": "stdout"
        }
      ]
    },
    {
      "cell_type": "code",
      "metadata": {
        "id": "hJPj3v4gmUlW",
        "colab_type": "code",
        "colab": {
          "base_uri": "https://localhost:8080/",
          "height": 51
        },
        "outputId": "0393841e-ea01-4b2b-c4b4-ca8b8a9d9533"
      },
      "source": [
        "print(quiz_3)\n",
        "if quiz_3 == \"D\":\n",
        "    correct_score +=1\n",
        "    print(\"correct!\")\n",
        "else:\n",
        "    correct_score +=0\n",
        "    print(\"wrong!\")"
      ],
      "execution_count": null,
      "outputs": [
        {
          "output_type": "stream",
          "text": [
            "D\n",
            "correct!\n"
          ],
          "name": "stdout"
        }
      ]
    },
    {
      "cell_type": "code",
      "metadata": {
        "id": "zHH0aDnKmZ6a",
        "colab_type": "code",
        "colab": {
          "base_uri": "https://localhost:8080/",
          "height": 51
        },
        "outputId": "f08a298a-53ff-45fc-f62c-5c8c6a45110b"
      },
      "source": [
        "print(quiz_4)\n",
        "if quiz_4 == \"C\":\n",
        "    correct_score +=1\n",
        "    print(\"correct!\")\n",
        "else:\n",
        "    correct_score +=0\n",
        "    print(\"wrong!\")"
      ],
      "execution_count": null,
      "outputs": [
        {
          "output_type": "stream",
          "text": [
            "C\n",
            "correct!\n"
          ],
          "name": "stdout"
        }
      ]
    },
    {
      "cell_type": "code",
      "metadata": {
        "id": "Hif7N6hHmdFM",
        "colab_type": "code",
        "colab": {
          "base_uri": "https://localhost:8080/",
          "height": 51
        },
        "outputId": "9d793bd6-bd00-4fda-ff39-75b2be661256"
      },
      "source": [
        "print(quiz_5)\n",
        "if quiz_5 == \"B\":\n",
        "    correct_score +=1\n",
        "    print(\"correct!\")\n",
        "else:\n",
        "    correct_score +=0\n",
        "    print(\"wrong!\")"
      ],
      "execution_count": null,
      "outputs": [
        {
          "output_type": "stream",
          "text": [
            "B\n",
            "correct!\n"
          ],
          "name": "stdout"
        }
      ]
    },
    {
      "cell_type": "markdown",
      "metadata": {
        "id": "nNOwz05Imh-K",
        "colab_type": "text"
      },
      "source": [
        "**Score Result**"
      ]
    },
    {
      "cell_type": "code",
      "metadata": {
        "id": "6sEd1KHJmiqE",
        "colab_type": "code",
        "colab": {
          "base_uri": "https://localhost:8080/",
          "height": 51
        },
        "outputId": "351590db-eda4-47f9-d5b5-3c039c39e0b2"
      },
      "source": [
        "print(\"=========>>>SCORE RESULTS<<<=========\")\n",
        "if correct_score == 5:\n",
        "    print(\"WOW! Nice job! You got \" + str(correct_score) +\" out of 5 correct answers\")\n",
        "elif correct_score < 5:\n",
        "    print(\"Keep on practicing pal! You got \" + str(correct_score) +\" out of 5 correct answers\")"
      ],
      "execution_count": null,
      "outputs": [
        {
          "output_type": "stream",
          "text": [
            "=========>>>SCORE RESULTS<<<=========\n",
            "Keep on practicing pal! You got 4 out of 5 correct answers\n"
          ],
          "name": "stdout"
        }
      ]
    }
  ]
}