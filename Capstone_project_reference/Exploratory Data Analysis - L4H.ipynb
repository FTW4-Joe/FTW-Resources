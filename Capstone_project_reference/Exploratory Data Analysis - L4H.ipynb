{
 "cells": [
  {
   "cell_type": "code",
   "execution_count": 1,
   "metadata": {},
   "outputs": [],
   "source": [
    "#Importing libraries\n",
    "\n",
    "import os\n",
    "import numpy as np # numerical calc package\n",
    "import pandas as pd # holds data\n",
    "import matplotlib.pyplot as plt # plotting library\n",
    "import seaborn as sns # pretty plotting\n",
    "import warnings\n",
    "warnings.filterwarnings('ignore')"
   ]
  },
  {
   "cell_type": "markdown",
   "metadata": {},
   "source": [
    "**DOH DATA DROP_2020-10-11"
   ]
  },
  {
   "cell_type": "code",
   "execution_count": 2,
   "metadata": {},
   "outputs": [
    {
     "data": {
      "text/html": [
       "<div>\n",
       "<style scoped>\n",
       "    .dataframe tbody tr th:only-of-type {\n",
       "        vertical-align: middle;\n",
       "    }\n",
       "\n",
       "    .dataframe tbody tr th {\n",
       "        vertical-align: top;\n",
       "    }\n",
       "\n",
       "    .dataframe thead th {\n",
       "        text-align: right;\n",
       "    }\n",
       "</style>\n",
       "<table border=\"1\" class=\"dataframe\">\n",
       "  <thead>\n",
       "    <tr style=\"text-align: right;\">\n",
       "      <th></th>\n",
       "      <th>CaseCode</th>\n",
       "      <th>Age</th>\n",
       "      <th>AgeGroup</th>\n",
       "      <th>Sex</th>\n",
       "      <th>DateSpecimen</th>\n",
       "      <th>DateResultRelease</th>\n",
       "      <th>RemovalType</th>\n",
       "      <th>Admitted</th>\n",
       "      <th>RegionRes</th>\n",
       "      <th>Progres</th>\n",
       "      <th>HealthStatus</th>\n",
       "      <th>Quarantined</th>\n",
       "      <th>Pregnanttab</th>\n",
       "      <th>ValidationStatus</th>\n",
       "    </tr>\n",
       "  </thead>\n",
       "  <tbody>\n",
       "    <tr>\n",
       "      <th>0</th>\n",
       "      <td>C581951</td>\n",
       "      <td>32.0</td>\n",
       "      <td>30 to 34</td>\n",
       "      <td>MALE</td>\n",
       "      <td>7/18/2020</td>\n",
       "      <td>7/23/2020</td>\n",
       "      <td>RECOVERED</td>\n",
       "      <td>NO</td>\n",
       "      <td>NATIONAL CAPITAL REGION</td>\n",
       "      <td>NaN</td>\n",
       "      <td>RECOVERED</td>\n",
       "      <td>NO</td>\n",
       "      <td>NaN</td>\n",
       "      <td>Health Status is \"Recovered\", but no Date Reco...</td>\n",
       "    </tr>\n",
       "    <tr>\n",
       "      <th>1</th>\n",
       "      <td>C504364</td>\n",
       "      <td>62.0</td>\n",
       "      <td>60 to 64</td>\n",
       "      <td>MALE</td>\n",
       "      <td>5/30/2020</td>\n",
       "      <td>5/30/2020</td>\n",
       "      <td>RECOVERED</td>\n",
       "      <td>NO</td>\n",
       "      <td>NATIONAL CAPITAL REGION</td>\n",
       "      <td>Metro Manila</td>\n",
       "      <td>RECOVERED</td>\n",
       "      <td>NO</td>\n",
       "      <td>NaN</td>\n",
       "      <td>Removal Type is \"Recovered\", but no Recovered ...</td>\n",
       "    </tr>\n",
       "    <tr>\n",
       "      <th>2</th>\n",
       "      <td>C761194</td>\n",
       "      <td>NaN</td>\n",
       "      <td>NaN</td>\n",
       "      <td>FEMALE</td>\n",
       "      <td>7/16/2020</td>\n",
       "      <td>7/20/2020</td>\n",
       "      <td>RECOVERED</td>\n",
       "      <td>NO</td>\n",
       "      <td>NATIONAL CAPITAL REGION</td>\n",
       "      <td>Metro Manila</td>\n",
       "      <td>RECOVERED</td>\n",
       "      <td>NO</td>\n",
       "      <td>NO</td>\n",
       "      <td>Health Status is \"Recovered\", but no Date Reco...</td>\n",
       "    </tr>\n",
       "    <tr>\n",
       "      <th>3</th>\n",
       "      <td>C957225</td>\n",
       "      <td>63.0</td>\n",
       "      <td>60 to 64</td>\n",
       "      <td>MALE</td>\n",
       "      <td>7/15/2020</td>\n",
       "      <td>7/18/2020</td>\n",
       "      <td>RECOVERED</td>\n",
       "      <td>NO</td>\n",
       "      <td>NATIONAL CAPITAL REGION</td>\n",
       "      <td>Metro Manila</td>\n",
       "      <td>RECOVERED</td>\n",
       "      <td>YES</td>\n",
       "      <td>NaN</td>\n",
       "      <td>NaN</td>\n",
       "    </tr>\n",
       "    <tr>\n",
       "      <th>4</th>\n",
       "      <td>C261258</td>\n",
       "      <td>49.0</td>\n",
       "      <td>45 to 49</td>\n",
       "      <td>FEMALE</td>\n",
       "      <td>7/13/2020</td>\n",
       "      <td>7/16/2020</td>\n",
       "      <td>RECOVERED</td>\n",
       "      <td>NO</td>\n",
       "      <td>ROF</td>\n",
       "      <td>NaN</td>\n",
       "      <td>RECOVERED</td>\n",
       "      <td>NO</td>\n",
       "      <td>NO</td>\n",
       "      <td>Health Status is \"Recovered\", but no Date Reco...</td>\n",
       "    </tr>\n",
       "  </tbody>\n",
       "</table>\n",
       "</div>"
      ],
      "text/plain": [
       "  CaseCode   Age  AgeGroup     Sex DateSpecimen DateResultRelease RemovalType  \\\n",
       "0  C581951  32.0  30 to 34    MALE    7/18/2020         7/23/2020   RECOVERED   \n",
       "1  C504364  62.0  60 to 64    MALE    5/30/2020         5/30/2020   RECOVERED   \n",
       "2  C761194   NaN       NaN  FEMALE    7/16/2020         7/20/2020   RECOVERED   \n",
       "3  C957225  63.0  60 to 64    MALE    7/15/2020         7/18/2020   RECOVERED   \n",
       "4  C261258  49.0  45 to 49  FEMALE    7/13/2020         7/16/2020   RECOVERED   \n",
       "\n",
       "  Admitted                RegionRes       Progres HealthStatus Quarantined  \\\n",
       "0       NO  NATIONAL CAPITAL REGION           NaN    RECOVERED          NO   \n",
       "1       NO  NATIONAL CAPITAL REGION  Metro Manila    RECOVERED          NO   \n",
       "2       NO  NATIONAL CAPITAL REGION  Metro Manila    RECOVERED          NO   \n",
       "3       NO  NATIONAL CAPITAL REGION  Metro Manila    RECOVERED         YES   \n",
       "4       NO                      ROF           NaN    RECOVERED          NO   \n",
       "\n",
       "  Pregnanttab                                   ValidationStatus  \n",
       "0         NaN  Health Status is \"Recovered\", but no Date Reco...  \n",
       "1         NaN  Removal Type is \"Recovered\", but no Recovered ...  \n",
       "2          NO  Health Status is \"Recovered\", but no Date Reco...  \n",
       "3         NaN                                                NaN  \n",
       "4          NO  Health Status is \"Recovered\", but no Date Reco...  "
      ]
     },
     "execution_count": 2,
     "metadata": {},
     "output_type": "execute_result"
    }
   ],
   "source": [
    "l4h_df = pd.read_csv(\"C:\\\\Users\\\\oliva\\\\FTW4-Github-Homework-1\\\\Capstone_reference\\\\DOH COVID Data Drop_ 20201011-EDITED.xlsb (1).csv\")\n",
    "l4h_df.head(5)"
   ]
  },
  {
   "cell_type": "code",
   "execution_count": 28,
   "metadata": {},
   "outputs": [
    {
     "data": {
      "text/plain": [
       "(339341, 14)"
      ]
     },
     "execution_count": 28,
     "metadata": {},
     "output_type": "execute_result"
    }
   ],
   "source": [
    "l4h_df.shape"
   ]
  },
  {
   "cell_type": "code",
   "execution_count": 29,
   "metadata": {},
   "outputs": [
    {
     "name": "stdout",
     "output_type": "stream",
     "text": [
      "<class 'pandas.core.frame.DataFrame'>\n",
      "RangeIndex: 339341 entries, 0 to 339340\n",
      "Data columns (total 14 columns):\n",
      " #   Column             Non-Null Count   Dtype  \n",
      "---  ------             --------------   -----  \n",
      " 0   CaseCode           339341 non-null  object \n",
      " 1   Age                337130 non-null  float64\n",
      " 2   AgeGroup           337130 non-null  object \n",
      " 3   Sex                339341 non-null  object \n",
      " 4   DateSpecimen       291585 non-null  object \n",
      " 5   DateResultRelease  294620 non-null  object \n",
      " 6   RemovalType        299396 non-null  object \n",
      " 7   Admitted           339187 non-null  object \n",
      " 8   RegionRes          335534 non-null  object \n",
      " 9   Progres            314380 non-null  object \n",
      " 10  HealthStatus       339341 non-null  object \n",
      " 11  Quarantined        339183 non-null  object \n",
      " 12  Pregnanttab        152380 non-null  object \n",
      " 13  ValidationStatus   230126 non-null  object \n",
      "dtypes: float64(1), object(13)\n",
      "memory usage: 36.2+ MB\n"
     ]
    }
   ],
   "source": [
    "l4h_df.info()"
   ]
  },
  {
   "cell_type": "code",
   "execution_count": 30,
   "metadata": {},
   "outputs": [
    {
     "data": {
      "text/html": [
       "<div>\n",
       "<style scoped>\n",
       "    .dataframe tbody tr th:only-of-type {\n",
       "        vertical-align: middle;\n",
       "    }\n",
       "\n",
       "    .dataframe tbody tr th {\n",
       "        vertical-align: top;\n",
       "    }\n",
       "\n",
       "    .dataframe thead th {\n",
       "        text-align: right;\n",
       "    }\n",
       "</style>\n",
       "<table border=\"1\" class=\"dataframe\">\n",
       "  <thead>\n",
       "    <tr style=\"text-align: right;\">\n",
       "      <th></th>\n",
       "      <th>Age</th>\n",
       "    </tr>\n",
       "  </thead>\n",
       "  <tbody>\n",
       "    <tr>\n",
       "      <th>count</th>\n",
       "      <td>337130.000000</td>\n",
       "    </tr>\n",
       "    <tr>\n",
       "      <th>mean</th>\n",
       "      <td>38.105360</td>\n",
       "    </tr>\n",
       "    <tr>\n",
       "      <th>std</th>\n",
       "      <td>16.559825</td>\n",
       "    </tr>\n",
       "    <tr>\n",
       "      <th>min</th>\n",
       "      <td>0.000000</td>\n",
       "    </tr>\n",
       "    <tr>\n",
       "      <th>25%</th>\n",
       "      <td>26.000000</td>\n",
       "    </tr>\n",
       "    <tr>\n",
       "      <th>50%</th>\n",
       "      <td>35.000000</td>\n",
       "    </tr>\n",
       "    <tr>\n",
       "      <th>75%</th>\n",
       "      <td>49.000000</td>\n",
       "    </tr>\n",
       "    <tr>\n",
       "      <th>max</th>\n",
       "      <td>103.000000</td>\n",
       "    </tr>\n",
       "  </tbody>\n",
       "</table>\n",
       "</div>"
      ],
      "text/plain": [
       "                 Age\n",
       "count  337130.000000\n",
       "mean       38.105360\n",
       "std        16.559825\n",
       "min         0.000000\n",
       "25%        26.000000\n",
       "50%        35.000000\n",
       "75%        49.000000\n",
       "max       103.000000"
      ]
     },
     "execution_count": 30,
     "metadata": {},
     "output_type": "execute_result"
    }
   ],
   "source": [
    "l4h_df.describe()"
   ]
  },
  {
   "cell_type": "code",
   "execution_count": 31,
   "metadata": {},
   "outputs": [
    {
     "data": {
      "text/plain": [
       "CaseCode                  0\n",
       "Age                    2211\n",
       "AgeGroup               2211\n",
       "Sex                       0\n",
       "DateSpecimen          47756\n",
       "DateResultRelease     44721\n",
       "RemovalType           39945\n",
       "Admitted                154\n",
       "RegionRes              3807\n",
       "Progres               24961\n",
       "HealthStatus              0\n",
       "Quarantined             158\n",
       "Pregnanttab          186961\n",
       "ValidationStatus     109215\n",
       "dtype: int64"
      ]
     },
     "execution_count": 31,
     "metadata": {},
     "output_type": "execute_result"
    }
   ],
   "source": [
    "l4h_df.isnull().sum()"
   ]
  },
  {
   "cell_type": "markdown",
   "metadata": {},
   "source": [
    "**DELETING NAN VALUES"
   ]
  },
  {
   "cell_type": "code",
   "execution_count": 32,
   "metadata": {},
   "outputs": [
    {
     "data": {
      "text/html": [
       "<div>\n",
       "<style scoped>\n",
       "    .dataframe tbody tr th:only-of-type {\n",
       "        vertical-align: middle;\n",
       "    }\n",
       "\n",
       "    .dataframe tbody tr th {\n",
       "        vertical-align: top;\n",
       "    }\n",
       "\n",
       "    .dataframe thead th {\n",
       "        text-align: right;\n",
       "    }\n",
       "</style>\n",
       "<table border=\"1\" class=\"dataframe\">\n",
       "  <thead>\n",
       "    <tr style=\"text-align: right;\">\n",
       "      <th></th>\n",
       "      <th>CaseCode</th>\n",
       "      <th>Age</th>\n",
       "      <th>AgeGroup</th>\n",
       "      <th>Sex</th>\n",
       "      <th>DateSpecimen</th>\n",
       "      <th>DateResultRelease</th>\n",
       "      <th>RemovalType</th>\n",
       "      <th>Admitted</th>\n",
       "      <th>RegionRes</th>\n",
       "      <th>Progres</th>\n",
       "      <th>HealthStatus</th>\n",
       "      <th>Quarantined</th>\n",
       "      <th>Pregnanttab</th>\n",
       "      <th>ValidationStatus</th>\n",
       "    </tr>\n",
       "  </thead>\n",
       "  <tbody>\n",
       "    <tr>\n",
       "      <th>0</th>\n",
       "      <td>C581951</td>\n",
       "      <td>32</td>\n",
       "      <td>30 to 34</td>\n",
       "      <td>MALE</td>\n",
       "      <td>7/18/2020</td>\n",
       "      <td>7/23/2020</td>\n",
       "      <td>RECOVERED</td>\n",
       "      <td>NO</td>\n",
       "      <td>NATIONAL CAPITAL REGION</td>\n",
       "      <td>NA</td>\n",
       "      <td>RECOVERED</td>\n",
       "      <td>NO</td>\n",
       "      <td>NO</td>\n",
       "      <td>Health Status is \"Recovered\", but no Date Reco...</td>\n",
       "    </tr>\n",
       "    <tr>\n",
       "      <th>1</th>\n",
       "      <td>C504364</td>\n",
       "      <td>62</td>\n",
       "      <td>60 to 64</td>\n",
       "      <td>MALE</td>\n",
       "      <td>5/30/2020</td>\n",
       "      <td>5/30/2020</td>\n",
       "      <td>RECOVERED</td>\n",
       "      <td>NO</td>\n",
       "      <td>NATIONAL CAPITAL REGION</td>\n",
       "      <td>Metro Manila</td>\n",
       "      <td>RECOVERED</td>\n",
       "      <td>NO</td>\n",
       "      <td>NO</td>\n",
       "      <td>Removal Type is \"Recovered\", but no Recovered ...</td>\n",
       "    </tr>\n",
       "    <tr>\n",
       "      <th>2</th>\n",
       "      <td>C761194</td>\n",
       "      <td>NA</td>\n",
       "      <td>NA</td>\n",
       "      <td>FEMALE</td>\n",
       "      <td>7/16/2020</td>\n",
       "      <td>7/20/2020</td>\n",
       "      <td>RECOVERED</td>\n",
       "      <td>NO</td>\n",
       "      <td>NATIONAL CAPITAL REGION</td>\n",
       "      <td>Metro Manila</td>\n",
       "      <td>RECOVERED</td>\n",
       "      <td>NO</td>\n",
       "      <td>NO</td>\n",
       "      <td>Health Status is \"Recovered\", but no Date Reco...</td>\n",
       "    </tr>\n",
       "    <tr>\n",
       "      <th>3</th>\n",
       "      <td>C957225</td>\n",
       "      <td>63</td>\n",
       "      <td>60 to 64</td>\n",
       "      <td>MALE</td>\n",
       "      <td>7/15/2020</td>\n",
       "      <td>7/18/2020</td>\n",
       "      <td>RECOVERED</td>\n",
       "      <td>NO</td>\n",
       "      <td>NATIONAL CAPITAL REGION</td>\n",
       "      <td>Metro Manila</td>\n",
       "      <td>RECOVERED</td>\n",
       "      <td>YES</td>\n",
       "      <td>NO</td>\n",
       "      <td>NO</td>\n",
       "    </tr>\n",
       "    <tr>\n",
       "      <th>4</th>\n",
       "      <td>C261258</td>\n",
       "      <td>49</td>\n",
       "      <td>45 to 49</td>\n",
       "      <td>FEMALE</td>\n",
       "      <td>7/13/2020</td>\n",
       "      <td>7/16/2020</td>\n",
       "      <td>RECOVERED</td>\n",
       "      <td>NO</td>\n",
       "      <td>ROF</td>\n",
       "      <td>NA</td>\n",
       "      <td>RECOVERED</td>\n",
       "      <td>NO</td>\n",
       "      <td>NO</td>\n",
       "      <td>Health Status is \"Recovered\", but no Date Reco...</td>\n",
       "    </tr>\n",
       "  </tbody>\n",
       "</table>\n",
       "</div>"
      ],
      "text/plain": [
       "  CaseCode Age  AgeGroup     Sex DateSpecimen DateResultRelease RemovalType  \\\n",
       "0  C581951  32  30 to 34    MALE    7/18/2020         7/23/2020   RECOVERED   \n",
       "1  C504364  62  60 to 64    MALE    5/30/2020         5/30/2020   RECOVERED   \n",
       "2  C761194  NA        NA  FEMALE    7/16/2020         7/20/2020   RECOVERED   \n",
       "3  C957225  63  60 to 64    MALE    7/15/2020         7/18/2020   RECOVERED   \n",
       "4  C261258  49  45 to 49  FEMALE    7/13/2020         7/16/2020   RECOVERED   \n",
       "\n",
       "  Admitted                RegionRes       Progres HealthStatus Quarantined  \\\n",
       "0       NO  NATIONAL CAPITAL REGION            NA    RECOVERED          NO   \n",
       "1       NO  NATIONAL CAPITAL REGION  Metro Manila    RECOVERED          NO   \n",
       "2       NO  NATIONAL CAPITAL REGION  Metro Manila    RECOVERED          NO   \n",
       "3       NO  NATIONAL CAPITAL REGION  Metro Manila    RECOVERED         YES   \n",
       "4       NO                      ROF            NA    RECOVERED          NO   \n",
       "\n",
       "  Pregnanttab                                   ValidationStatus  \n",
       "0          NO  Health Status is \"Recovered\", but no Date Reco...  \n",
       "1          NO  Removal Type is \"Recovered\", but no Recovered ...  \n",
       "2          NO  Health Status is \"Recovered\", but no Date Reco...  \n",
       "3          NO                                                 NO  \n",
       "4          NO  Health Status is \"Recovered\", but no Date Reco...  "
      ]
     },
     "execution_count": 32,
     "metadata": {},
     "output_type": "execute_result"
    }
   ],
   "source": [
    "#Replacing NaN values\n",
    "\n",
    "l4h_df['Age'] = l4h_df['Age'].replace(np.nan,\"NA\")\n",
    "l4h_df['AgeGroup'] = l4h_df['AgeGroup'].replace(np.nan,\"NA\")\n",
    "l4h_df['Sex'] = l4h_df['Sex'].replace(np.nan,\"NA\")\n",
    "l4h_df['DateSpecimen'] = l4h_df['DateSpecimen'].replace(np.nan,\"NA\")\n",
    "l4h_df['DateResultRelease'] = l4h_df['DateResultRelease'].replace(np.nan,\"NA\")\n",
    "l4h_df['RemovalType'] = l4h_df['RemovalType'].replace(np.nan,\"NA\")\n",
    "l4h_df['Admitted'] = l4h_df['Admitted'].replace(np.nan,\"NA\")\n",
    "l4h_df['RegionRes'] = l4h_df['RegionRes'].replace(np.nan,\"NA\")\n",
    "l4h_df['Progres'] = l4h_df['Progres'].replace(np.nan,\"NA\")\n",
    "l4h_df['HealthStatus'] = l4h_df['HealthStatus'].replace(np.nan,\"NA\")\n",
    "l4h_df['Quarantined'] = l4h_df['Quarantined'].replace(np.nan,\"NA\")\n",
    "l4h_df['Pregnanttab'] = l4h_df['Pregnanttab'].replace(np.nan,\"NO\")\n",
    "l4h_df['ValidationStatus'] = l4h_df['ValidationStatus'].replace(np.nan,\"NO\")\n",
    "l4h_df.head(5)"
   ]
  },
  {
   "cell_type": "code",
   "execution_count": 33,
   "metadata": {},
   "outputs": [
    {
     "data": {
      "text/html": [
       "<div>\n",
       "<style scoped>\n",
       "    .dataframe tbody tr th:only-of-type {\n",
       "        vertical-align: middle;\n",
       "    }\n",
       "\n",
       "    .dataframe tbody tr th {\n",
       "        vertical-align: top;\n",
       "    }\n",
       "\n",
       "    .dataframe thead th {\n",
       "        text-align: right;\n",
       "    }\n",
       "</style>\n",
       "<table border=\"1\" class=\"dataframe\">\n",
       "  <thead>\n",
       "    <tr style=\"text-align: right;\">\n",
       "      <th></th>\n",
       "      <th>CaseCode</th>\n",
       "      <th>Age</th>\n",
       "      <th>AgeGroup</th>\n",
       "      <th>Sex</th>\n",
       "      <th>DateSpecimen</th>\n",
       "      <th>DateResultRelease</th>\n",
       "      <th>RemovalType</th>\n",
       "      <th>Admitted</th>\n",
       "      <th>RegionRes</th>\n",
       "      <th>Progres</th>\n",
       "      <th>HealthStatus</th>\n",
       "      <th>Quarantined</th>\n",
       "      <th>Pregnanttab</th>\n",
       "      <th>ValidationStatus</th>\n",
       "    </tr>\n",
       "  </thead>\n",
       "  <tbody>\n",
       "    <tr>\n",
       "      <th>0</th>\n",
       "      <td>C581951</td>\n",
       "      <td>32</td>\n",
       "      <td>30 to 34</td>\n",
       "      <td>MALE</td>\n",
       "      <td>7/18/2020</td>\n",
       "      <td>7/23/2020</td>\n",
       "      <td>RECOVERED</td>\n",
       "      <td>NO</td>\n",
       "      <td>NATIONAL CAPITAL REGION</td>\n",
       "      <td>NA</td>\n",
       "      <td>RECOVERED</td>\n",
       "      <td>NO</td>\n",
       "      <td>NO</td>\n",
       "      <td>Health Status is \"Recovered\", but no Date Reco...</td>\n",
       "    </tr>\n",
       "    <tr>\n",
       "      <th>1</th>\n",
       "      <td>C504364</td>\n",
       "      <td>62</td>\n",
       "      <td>60 to 64</td>\n",
       "      <td>MALE</td>\n",
       "      <td>5/30/2020</td>\n",
       "      <td>5/30/2020</td>\n",
       "      <td>RECOVERED</td>\n",
       "      <td>NO</td>\n",
       "      <td>NATIONAL CAPITAL REGION</td>\n",
       "      <td>Metro Manila</td>\n",
       "      <td>RECOVERED</td>\n",
       "      <td>NO</td>\n",
       "      <td>NO</td>\n",
       "      <td>Removal Type is \"Recovered\", but no Recovered ...</td>\n",
       "    </tr>\n",
       "    <tr>\n",
       "      <th>2</th>\n",
       "      <td>C761194</td>\n",
       "      <td>NA</td>\n",
       "      <td>NA</td>\n",
       "      <td>FEMALE</td>\n",
       "      <td>7/16/2020</td>\n",
       "      <td>7/20/2020</td>\n",
       "      <td>RECOVERED</td>\n",
       "      <td>NO</td>\n",
       "      <td>NATIONAL CAPITAL REGION</td>\n",
       "      <td>Metro Manila</td>\n",
       "      <td>RECOVERED</td>\n",
       "      <td>NO</td>\n",
       "      <td>NO</td>\n",
       "      <td>Health Status is \"Recovered\", but no Date Reco...</td>\n",
       "    </tr>\n",
       "    <tr>\n",
       "      <th>3</th>\n",
       "      <td>C957225</td>\n",
       "      <td>63</td>\n",
       "      <td>60 to 64</td>\n",
       "      <td>MALE</td>\n",
       "      <td>7/15/2020</td>\n",
       "      <td>7/18/2020</td>\n",
       "      <td>RECOVERED</td>\n",
       "      <td>NO</td>\n",
       "      <td>NATIONAL CAPITAL REGION</td>\n",
       "      <td>Metro Manila</td>\n",
       "      <td>RECOVERED</td>\n",
       "      <td>YES</td>\n",
       "      <td>NO</td>\n",
       "      <td>NO</td>\n",
       "    </tr>\n",
       "    <tr>\n",
       "      <th>4</th>\n",
       "      <td>C261258</td>\n",
       "      <td>49</td>\n",
       "      <td>45 to 49</td>\n",
       "      <td>FEMALE</td>\n",
       "      <td>7/13/2020</td>\n",
       "      <td>7/16/2020</td>\n",
       "      <td>RECOVERED</td>\n",
       "      <td>NO</td>\n",
       "      <td>ROF</td>\n",
       "      <td>NA</td>\n",
       "      <td>RECOVERED</td>\n",
       "      <td>NO</td>\n",
       "      <td>NO</td>\n",
       "      <td>Health Status is \"Recovered\", but no Date Reco...</td>\n",
       "    </tr>\n",
       "  </tbody>\n",
       "</table>\n",
       "</div>"
      ],
      "text/plain": [
       "  CaseCode Age  AgeGroup     Sex DateSpecimen DateResultRelease RemovalType  \\\n",
       "0  C581951  32  30 to 34    MALE    7/18/2020         7/23/2020   RECOVERED   \n",
       "1  C504364  62  60 to 64    MALE    5/30/2020         5/30/2020   RECOVERED   \n",
       "2  C761194  NA        NA  FEMALE    7/16/2020         7/20/2020   RECOVERED   \n",
       "3  C957225  63  60 to 64    MALE    7/15/2020         7/18/2020   RECOVERED   \n",
       "4  C261258  49  45 to 49  FEMALE    7/13/2020         7/16/2020   RECOVERED   \n",
       "\n",
       "  Admitted                RegionRes       Progres HealthStatus Quarantined  \\\n",
       "0       NO  NATIONAL CAPITAL REGION            NA    RECOVERED          NO   \n",
       "1       NO  NATIONAL CAPITAL REGION  Metro Manila    RECOVERED          NO   \n",
       "2       NO  NATIONAL CAPITAL REGION  Metro Manila    RECOVERED          NO   \n",
       "3       NO  NATIONAL CAPITAL REGION  Metro Manila    RECOVERED         YES   \n",
       "4       NO                      ROF            NA    RECOVERED          NO   \n",
       "\n",
       "  Pregnanttab                                   ValidationStatus  \n",
       "0          NO  Health Status is \"Recovered\", but no Date Reco...  \n",
       "1          NO  Removal Type is \"Recovered\", but no Recovered ...  \n",
       "2          NO  Health Status is \"Recovered\", but no Date Reco...  \n",
       "3          NO                                                 NO  \n",
       "4          NO  Health Status is \"Recovered\", but no Date Reco...  "
      ]
     },
     "execution_count": 33,
     "metadata": {},
     "output_type": "execute_result"
    }
   ],
   "source": [
    "#Dropping all NaN values\n",
    "\n",
    "edited_l4h_df = l4h_df.dropna()\n",
    "edited_l4h_df.head(5)\n"
   ]
  },
  {
   "cell_type": "code",
   "execution_count": 34,
   "metadata": {},
   "outputs": [
    {
     "name": "stdout",
     "output_type": "stream",
     "text": [
      "(339341, 14)\n",
      "CaseCode             0\n",
      "Age                  0\n",
      "AgeGroup             0\n",
      "Sex                  0\n",
      "DateSpecimen         0\n",
      "DateResultRelease    0\n",
      "RemovalType          0\n",
      "Admitted             0\n",
      "RegionRes            0\n",
      "Progres              0\n",
      "HealthStatus         0\n",
      "Quarantined          0\n",
      "Pregnanttab          0\n",
      "ValidationStatus     0\n",
      "dtype: int64\n"
     ]
    }
   ],
   "source": [
    "print(edited_l4h_df.shape)\n",
    "print(edited_l4h_df.isnull().sum())"
   ]
  },
  {
   "cell_type": "code",
   "execution_count": 35,
   "metadata": {},
   "outputs": [
    {
     "data": {
      "text/html": [
       "<div>\n",
       "<style scoped>\n",
       "    .dataframe tbody tr th:only-of-type {\n",
       "        vertical-align: middle;\n",
       "    }\n",
       "\n",
       "    .dataframe tbody tr th {\n",
       "        vertical-align: top;\n",
       "    }\n",
       "\n",
       "    .dataframe thead th {\n",
       "        text-align: right;\n",
       "    }\n",
       "</style>\n",
       "<table border=\"1\" class=\"dataframe\">\n",
       "  <thead>\n",
       "    <tr style=\"text-align: right;\">\n",
       "      <th></th>\n",
       "      <th>CaseCode</th>\n",
       "      <th>Age</th>\n",
       "      <th>AgeGroup</th>\n",
       "      <th>Sex</th>\n",
       "      <th>DateSpecimen</th>\n",
       "      <th>DateResultRelease</th>\n",
       "      <th>RemovalType</th>\n",
       "      <th>Admitted</th>\n",
       "      <th>RegionRes</th>\n",
       "      <th>Progres</th>\n",
       "      <th>HealthStatus</th>\n",
       "      <th>Quarantined</th>\n",
       "      <th>Pregnanttab</th>\n",
       "      <th>ValidationStatus</th>\n",
       "    </tr>\n",
       "  </thead>\n",
       "  <tbody>\n",
       "    <tr>\n",
       "      <th>count</th>\n",
       "      <td>339341</td>\n",
       "      <td>339341.0</td>\n",
       "      <td>339341</td>\n",
       "      <td>339341</td>\n",
       "      <td>339341</td>\n",
       "      <td>339341</td>\n",
       "      <td>339341</td>\n",
       "      <td>339341</td>\n",
       "      <td>339341</td>\n",
       "      <td>339341</td>\n",
       "      <td>339341</td>\n",
       "      <td>339341</td>\n",
       "      <td>339341</td>\n",
       "      <td>339341</td>\n",
       "    </tr>\n",
       "    <tr>\n",
       "      <th>unique</th>\n",
       "      <td>339341</td>\n",
       "      <td>105.0</td>\n",
       "      <td>18</td>\n",
       "      <td>2</td>\n",
       "      <td>224</td>\n",
       "      <td>223</td>\n",
       "      <td>3</td>\n",
       "      <td>3</td>\n",
       "      <td>19</td>\n",
       "      <td>84</td>\n",
       "      <td>6</td>\n",
       "      <td>3</td>\n",
       "      <td>2</td>\n",
       "      <td>524</td>\n",
       "    </tr>\n",
       "    <tr>\n",
       "      <th>top</th>\n",
       "      <td>C204902</td>\n",
       "      <td>27.0</td>\n",
       "      <td>25 to 29</td>\n",
       "      <td>MALE</td>\n",
       "      <td>NA</td>\n",
       "      <td>NA</td>\n",
       "      <td>RECOVERED</td>\n",
       "      <td>NO</td>\n",
       "      <td>NATIONAL CAPITAL REGION</td>\n",
       "      <td>Metro Manila</td>\n",
       "      <td>RECOVERED</td>\n",
       "      <td>NO</td>\n",
       "      <td>NO</td>\n",
       "      <td>Removal Type is \"Recovered\", but no Recovered ...</td>\n",
       "    </tr>\n",
       "    <tr>\n",
       "      <th>freq</th>\n",
       "      <td>1</td>\n",
       "      <td>10809.0</td>\n",
       "      <td>52965</td>\n",
       "      <td>186850</td>\n",
       "      <td>47756</td>\n",
       "      <td>44721</td>\n",
       "      <td>293075</td>\n",
       "      <td>315064</td>\n",
       "      <td>173917</td>\n",
       "      <td>166206</td>\n",
       "      <td>293075</td>\n",
       "      <td>272985</td>\n",
       "      <td>339129</td>\n",
       "      <td>117187</td>\n",
       "    </tr>\n",
       "  </tbody>\n",
       "</table>\n",
       "</div>"
      ],
      "text/plain": [
       "       CaseCode       Age  AgeGroup     Sex DateSpecimen DateResultRelease  \\\n",
       "count    339341  339341.0    339341  339341       339341            339341   \n",
       "unique   339341     105.0        18       2          224               223   \n",
       "top     C204902      27.0  25 to 29    MALE           NA                NA   \n",
       "freq          1   10809.0     52965  186850        47756             44721   \n",
       "\n",
       "       RemovalType Admitted                RegionRes       Progres  \\\n",
       "count       339341   339341                   339341        339341   \n",
       "unique           3        3                       19            84   \n",
       "top      RECOVERED       NO  NATIONAL CAPITAL REGION  Metro Manila   \n",
       "freq        293075   315064                   173917        166206   \n",
       "\n",
       "       HealthStatus Quarantined Pregnanttab  \\\n",
       "count        339341      339341      339341   \n",
       "unique            6           3           2   \n",
       "top       RECOVERED          NO          NO   \n",
       "freq         293075      272985      339129   \n",
       "\n",
       "                                         ValidationStatus  \n",
       "count                                              339341  \n",
       "unique                                                524  \n",
       "top     Removal Type is \"Recovered\", but no Recovered ...  \n",
       "freq                                               117187  "
      ]
     },
     "execution_count": 35,
     "metadata": {},
     "output_type": "execute_result"
    }
   ],
   "source": [
    "edited_l4h_df.describe()"
   ]
  },
  {
   "cell_type": "markdown",
   "metadata": {},
   "source": [
    "**ANALYSIS AND INSIGHTS"
   ]
  },
  {
   "cell_type": "markdown",
   "metadata": {},
   "source": [
    "25-29 years old are more likely prone to COVID. Factors to consider is that this age bracket had the highest number of labor forces in the philippines(As of Oct 2015 PSA study https://psa.gov.ph/content/employment-situation-october-2015-final-results)."
   ]
  },
  {
   "cell_type": "code",
   "execution_count": 58,
   "metadata": {
    "scrolled": true
   },
   "outputs": [
    {
     "data": {
      "text/plain": [
       "Text(0.5, 1.0, 'Age Group Count')"
      ]
     },
     "execution_count": 58,
     "metadata": {},
     "output_type": "execute_result"
    },
    {
     "data": {
      "image/png": "[encoded data removed]",
      "text/plain": [
       "<Figure size 1080x1440 with 1 Axes>"
      ]
     },
     "metadata": {},
     "output_type": "display_data"
    }
   ],
   "source": [
    "#Plottiing\n",
    "sns.countplot(y=\"AgeGroup\", hue=\"Sex\",data=edited_l4h_df,order= edited_l4h_df['AgeGroup'].value_counts().index)\n",
    "sns.set(rc={'figure.figsize':(12,13.5)})\n",
    "plt.title(\"Age Group Count\")"
   ]
  },
  {
   "cell_type": "markdown",
   "metadata": {},
   "source": [
    "Looks like the \"Age\" are skewed to the right, meaning most of infected cases are belong to young adult and adult group age (20<\"Age\">60).   "
   ]
  },
  {
   "cell_type": "code",
   "execution_count": 39,
   "metadata": {},
   "outputs": [
    {
     "data": {
      "text/plain": [
       "<matplotlib.axes._subplots.AxesSubplot at 0x1e6219c1bb0>"
      ]
     },
     "execution_count": 39,
     "metadata": {},
     "output_type": "execute_result"
    },
    {
     "data": {
      "image/png": "[encoded data removed]",
      "text/plain": [
       "<Figure size 432x360 with 1 Axes>"
      ]
     },
     "metadata": {},
     "output_type": "display_data"
    }
   ],
   "source": [
    "#Removing all NA values in Age\n",
    "Na_age = edited_l4h_df[(edited_l4h_df[\"Age\"] == \"NA\")].index\n",
    "edited_l4h_df.drop(Na_age, inplace=True)\n",
    "\n",
    "#Plotting\n",
    "sns.set(rc={'figure.figsize':(6,5)})\n",
    "sns.boxplot(x=edited_l4h_df[\"Age\"], y=edited_l4h_df[\"Sex\"])"
   ]
  },
  {
   "cell_type": "code",
   "execution_count": 46,
   "metadata": {},
   "outputs": [
    {
     "data": {
      "image/png": "[encoded data removed]",
      "text/plain": [
       "<Figure size 720x360 with 1 Axes>"
      ]
     },
     "metadata": {},
     "output_type": "display_data"
    }
   ],
   "source": [
    "sns.countplot(x=edited_l4h_df[\"HealthStatus\"],hue=\"Sex\",data=edited_l4h_df)\n",
    "sns.set(rc={'figure.figsize':(4,6)})"
   ]
  },
  {
   "cell_type": "markdown",
   "metadata": {},
   "source": [
    "**QUARANTINED"
   ]
  },
  {
   "cell_type": "code",
   "execution_count": 79,
   "metadata": {},
   "outputs": [
    {
     "data": {
      "image/png": "[encoded data removed]",
      "text/plain": [
       "<Figure size 1080x576 with 1 Axes>"
      ]
     },
     "metadata": {},
     "output_type": "display_data"
    }
   ],
   "source": [
    "#Removing all NA values in Age\n",
    "Na_qrtn = edited_l4h_df[(edited_l4h_df[\"Quarantined\"] == \"NA\")].index\n",
    "edited_l4h_df.drop(Na_qrtn, inplace=True)\n",
    "\n",
    "#Plottiing\n",
    "sns.countplot(x=\"AgeGroup\",hue=\"Quarantined\",data=edited_l4h_df,order= edited_l4h_df['AgeGroup'].value_counts().index)\n",
    "sns.set(rc={'figure.figsize':(15,8)})\n",
    "#plt.title(\"Age Group Count\")"
   ]
  },
  {
   "cell_type": "markdown",
   "metadata": {},
   "source": [
    "**RETURNING OVERSEAS FILIPINO"
   ]
  },
  {
   "cell_type": "code",
   "execution_count": 95,
   "metadata": {},
   "outputs": [
    {
     "data": {
      "image/png": "[encoded data removed]",
      "text/plain": [
       "<Figure size 3240x1800 with 1 Axes>"
      ]
     },
     "metadata": {},
     "output_type": "display_data"
    }
   ],
   "source": [
    "sns.countplot(x=\"RegionRes\",hue=\"Sex\",data=edited_l4h_df)\n",
    "sns.set(rc={'figure.figsize':(45,25)})\n",
    "\n",
    "df.pivot_table(index=[\"age\"],columns=[\"smoker\"],values = \"charges\",aggfunc= \"mean\").plot.line(figsize=(8, 8))"
   ]
  },
  {
   "cell_type": "code",
   "execution_count": 85,
   "metadata": {},
   "outputs": [
    {
     "data": {
      "image/png": "[encoded data removed]",
      "text/plain": [
       "<Figure size 1080x576 with 1 Axes>"
      ]
     },
     "metadata": {},
     "output_type": "display_data"
    }
   ],
   "source": [
    "filter_ROF = edited_l4h_df[(edited_l4h_df[\"RegionRes\"] == \"ROF\")]\n",
    "sns.countplot(x=\"AgeGroup\",hue=\"Sex\",data=filter_ROF,order= filter_ROF['AgeGroup'].value_counts().index)\n",
    "sns.set(rc={'figure.figsize':(15,8)})"
   ]
  },
  {
   "cell_type": "code",
   "execution_count": 96,
   "metadata": {},
   "outputs": [
    {
     "data": {
      "text/html": [
       "<div>\n",
       "<style scoped>\n",
       "    .dataframe tbody tr th:only-of-type {\n",
       "        vertical-align: middle;\n",
       "    }\n",
       "\n",
       "    .dataframe tbody tr th {\n",
       "        vertical-align: top;\n",
       "    }\n",
       "\n",
       "    .dataframe thead th {\n",
       "        text-align: right;\n",
       "    }\n",
       "</style>\n",
       "<table border=\"1\" class=\"dataframe\">\n",
       "  <thead>\n",
       "    <tr style=\"text-align: right;\">\n",
       "      <th></th>\n",
       "      <th>CaseCode</th>\n",
       "      <th>Age</th>\n",
       "      <th>AgeGroup</th>\n",
       "      <th>Sex</th>\n",
       "      <th>DateSpecimen</th>\n",
       "      <th>DateResultRelease</th>\n",
       "      <th>RemovalType</th>\n",
       "      <th>Admitted</th>\n",
       "      <th>RegionRes</th>\n",
       "      <th>Progres</th>\n",
       "      <th>HealthStatus</th>\n",
       "      <th>Quarantined</th>\n",
       "      <th>Pregnanttab</th>\n",
       "      <th>ValidationStatus</th>\n",
       "    </tr>\n",
       "  </thead>\n",
       "  <tbody>\n",
       "    <tr>\n",
       "      <th>count</th>\n",
       "      <td>11940</td>\n",
       "      <td>11940.0</td>\n",
       "      <td>11940</td>\n",
       "      <td>11940</td>\n",
       "      <td>11940</td>\n",
       "      <td>11940</td>\n",
       "      <td>11940</td>\n",
       "      <td>11940</td>\n",
       "      <td>11940</td>\n",
       "      <td>11940</td>\n",
       "      <td>11940</td>\n",
       "      <td>11940</td>\n",
       "      <td>11940</td>\n",
       "      <td>11940</td>\n",
       "    </tr>\n",
       "    <tr>\n",
       "      <th>unique</th>\n",
       "      <td>11940</td>\n",
       "      <td>89.0</td>\n",
       "      <td>17</td>\n",
       "      <td>2</td>\n",
       "      <td>200</td>\n",
       "      <td>195</td>\n",
       "      <td>3</td>\n",
       "      <td>2</td>\n",
       "      <td>1</td>\n",
       "      <td>1</td>\n",
       "      <td>6</td>\n",
       "      <td>2</td>\n",
       "      <td>2</td>\n",
       "      <td>107</td>\n",
       "    </tr>\n",
       "    <tr>\n",
       "      <th>top</th>\n",
       "      <td>C990062</td>\n",
       "      <td>29.0</td>\n",
       "      <td>25 to 29</td>\n",
       "      <td>MALE</td>\n",
       "      <td>NA</td>\n",
       "      <td>NA</td>\n",
       "      <td>RECOVERED</td>\n",
       "      <td>NO</td>\n",
       "      <td>ROF</td>\n",
       "      <td>NA</td>\n",
       "      <td>RECOVERED</td>\n",
       "      <td>YES</td>\n",
       "      <td>NO</td>\n",
       "      <td>NO</td>\n",
       "    </tr>\n",
       "    <tr>\n",
       "      <th>freq</th>\n",
       "      <td>1</td>\n",
       "      <td>520.0</td>\n",
       "      <td>2412</td>\n",
       "      <td>8182</td>\n",
       "      <td>1528</td>\n",
       "      <td>1700</td>\n",
       "      <td>11748</td>\n",
       "      <td>11573</td>\n",
       "      <td>11940</td>\n",
       "      <td>11940</td>\n",
       "      <td>11748</td>\n",
       "      <td>6610</td>\n",
       "      <td>11938</td>\n",
       "      <td>4786</td>\n",
       "    </tr>\n",
       "  </tbody>\n",
       "</table>\n",
       "</div>"
      ],
      "text/plain": [
       "       CaseCode      Age  AgeGroup    Sex DateSpecimen DateResultRelease  \\\n",
       "count     11940  11940.0     11940  11940        11940             11940   \n",
       "unique    11940     89.0        17      2          200               195   \n",
       "top     C990062     29.0  25 to 29   MALE           NA                NA   \n",
       "freq          1    520.0      2412   8182         1528              1700   \n",
       "\n",
       "       RemovalType Admitted RegionRes Progres HealthStatus Quarantined  \\\n",
       "count        11940    11940     11940   11940        11940       11940   \n",
       "unique           3        2         1       1            6           2   \n",
       "top      RECOVERED       NO       ROF      NA    RECOVERED         YES   \n",
       "freq         11748    11573     11940   11940        11748        6610   \n",
       "\n",
       "       Pregnanttab ValidationStatus  \n",
       "count        11940            11940  \n",
       "unique           2              107  \n",
       "top             NO               NO  \n",
       "freq         11938             4786  "
      ]
     },
     "execution_count": 96,
     "metadata": {},
     "output_type": "execute_result"
    }
   ],
   "source": [
    "edited_l4h_df[(edited_l4h_df[\"RegionRes\"] == \"ROF\")].describe()"
   ]
  },
  {
   "cell_type": "code",
   "execution_count": null,
   "metadata": {},
   "outputs": [],
   "source": []
  }
 ],
 "metadata": {
  "kernelspec": {
   "display_name": "Python 3",
   "language": "python",
   "name": "python3"
  },
  "language_info": {
   "codemirror_mode": {
    "name": "ipython",
    "version": 3
   },
   "file_extension": ".py",
   "mimetype": "text/x-python",
   "name": "python",
   "nbconvert_exporter": "python",
   "pygments_lexer": "ipython3",
   "version": "3.8.3"
  }
 },
 "nbformat": 4,
 "nbformat_minor": 4
}
