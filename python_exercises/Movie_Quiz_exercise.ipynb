{
 "cells": [
  {
   "cell_type": "markdown",
   "metadata": {
    "colab_type": "text",
    "id": "KMeTfulwlfHD"
   },
   "source": [
    " **Movie Trivia Quiz**\n",
    " ==="
   ]
  },
  {
   "cell_type": "markdown",
   "metadata": {
    "colab_type": "text",
    "id": "RHb4fdNUmuvI"
   },
   "source": [
    "**Asking Player's Name**"
   ]
  },
  {
   "cell_type": "code",
   "execution_count": 1,
   "metadata": {
    "colab": {
     "base_uri": "https://localhost:8080/",
     "height": 68
    },
    "colab_type": "code",
    "executionInfo": {
     "elapsed": 7400,
     "status": "ok",
     "timestamp": 1600875384354,
     "user": {
      "displayName": "Joe Olivare",
      "photoUrl": "",
      "userId": "02962974164713080887"
     },
     "user_tz": -480
    },
    "id": "sso0qwefRhji",
    "outputId": "673dbfe5-5371-4983-ccef-e79a0be2ae1e"
   },
   "outputs": [
    {
     "name": "stdout",
     "output_type": "stream",
     "text": [
      "Please tell me your name: JOE\n",
      "Hi there Joe! Welcome to Movie Trivia.\n",
      "======>>>Let's get started!<<======\n"
     ]
    }
   ],
   "source": [
    "player_name = input(\"Please tell me your name: \").title()\n",
    "\n",
    "#Storing player_name\n",
    "print(\"Hi there \"+ player_name +\"! Welcome to Movie Trivia.\\n======>>>Let's get started!<<======\")"
   ]
  },
  {
   "cell_type": "code",
   "execution_count": 2,
   "metadata": {
    "colab": {},
    "colab_type": "code",
    "id": "o7V2uPHakrfU"
   },
   "outputs": [],
   "source": [
    "correct_score = 0  #Storing points for each correct answer"
   ]
  },
  {
   "cell_type": "markdown",
   "metadata": {
    "colab_type": "text",
    "id": "aZOSREO8lNgd"
   },
   "source": [
    "**Question and Choices**"
   ]
  },
  {
   "cell_type": "code",
   "execution_count": 3,
   "metadata": {
    "colab": {
     "base_uri": "https://localhost:8080/",
     "height": 119
    },
    "colab_type": "code",
    "executionInfo": {
     "elapsed": 7022,
     "status": "ok",
     "timestamp": 1600964721949,
     "user": {
      "displayName": "Joe Olivare",
      "photoUrl": "",
      "userId": "02962974164713080887"
     },
     "user_tz": -480
    },
    "id": "CkA7BTFSkwYx",
    "outputId": "978f30c6-6591-4dc6-999f-4404e49533e3"
   },
   "outputs": [
    {
     "name": "stdout",
     "output_type": "stream",
     "text": [
      "\"What is the highest-grossing film of all time without taking inflation into account?\n",
      "A. Titanic \n",
      "B. Avengers: Endgame\n",
      "C. Avatar\n",
      "D. Star Wars: The Force Awakens\n",
      ">>>> A\n"
     ]
    }
   ],
   "source": [
    "quiz_1 = input(\"\"\"\"What is the highest-grossing film of all time without taking inflation into account?\n",
    "A. Titanic \n",
    "B. Avengers: Endgame\n",
    "C. Avatar\n",
    "D. Star Wars: The Force Awakens\n",
    ">>>> \"\"\").upper()"
   ]
  },
  {
   "cell_type": "code",
   "execution_count": 4,
   "metadata": {
    "colab": {
     "base_uri": "https://localhost:8080/",
     "height": 119
    },
    "colab_type": "code",
    "executionInfo": {
     "elapsed": 10561,
     "status": "ok",
     "timestamp": 1600964725506,
     "user": {
      "displayName": "Joe Olivare",
      "photoUrl": "",
      "userId": "02962974164713080887"
     },
     "user_tz": -480
    },
    "id": "rtktQh-Zk0e6",
    "outputId": "cffd13f1-bb98-4f17-e711-bc0ba286eb13"
   },
   "outputs": [
    {
     "name": "stdout",
     "output_type": "stream",
     "text": [
      "Which actor or actress is killed off in the opening scene of the movie Scream? \n",
      "A. Courtney Cox\n",
      "B. Neve Campbell\n",
      "C. Drew Barrymore\n",
      "D. Rose McGowan\n",
      ">>>> C\n"
     ]
    }
   ],
   "source": [
    "quiz_2 = input(\"\"\"Which actor or actress is killed off in the opening scene of the movie Scream? \n",
    "A. Courtney Cox\n",
    "B. Neve Campbell\n",
    "C. Drew Barrymore\n",
    "D. Rose McGowan\n",
    ">>>> \"\"\").upper()"
   ]
  },
  {
   "cell_type": "code",
   "execution_count": 5,
   "metadata": {
    "colab": {
     "base_uri": "https://localhost:8080/",
     "height": 119
    },
    "colab_type": "code",
    "executionInfo": {
     "elapsed": 6470,
     "status": "ok",
     "timestamp": 1600875411529,
     "user": {
      "displayName": "Joe Olivare",
      "photoUrl": "",
      "userId": "02962974164713080887"
     },
     "user_tz": -480
    },
    "id": "j4pNC62ck-uX",
    "outputId": "e86e7617-bdcb-456b-c7d0-4102a90c0243"
   },
   "outputs": [
    {
     "name": "stdout",
     "output_type": "stream",
     "text": [
      "\"Which film did Steven Spielberg win his first Oscar for Best Director?\n",
      "A. Jaws\n",
      "B. Catch Me If You Can\n",
      "C. E.T.\n",
      "D. Schindler’s List\n",
      ">>>> D\n"
     ]
    }
   ],
   "source": [
    "quiz_3 = input(\"\"\"\"Which film did Steven Spielberg win his first Oscar for Best Director?\n",
    "A. Jaws\n",
    "B. Catch Me If You Can\n",
    "C. E.T.\n",
    "D. Schindler’s List\n",
    ">>>> \"\"\").upper()"
   ]
  },
  {
   "cell_type": "code",
   "execution_count": 6,
   "metadata": {
    "colab": {
     "base_uri": "https://localhost:8080/",
     "height": 119
    },
    "colab_type": "code",
    "executionInfo": {
     "elapsed": 11204,
     "status": "ok",
     "timestamp": 1600875425118,
     "user": {
      "displayName": "Joe Olivare",
      "photoUrl": "",
      "userId": "02962974164713080887"
     },
     "user_tz": -480
    },
    "id": "mFz82bdxlIp1",
    "outputId": "c0886658-d7ad-414a-bd22-1c026ac528ad"
   },
   "outputs": [
    {
     "name": "stdout",
     "output_type": "stream",
     "text": [
      "\"Which film won the first Academy Award for Best Picture?\n",
      "A. All Quiet on the Western Front\n",
      "B. Sunrise\n",
      "C. Wings\n",
      "D. Metropolis\n",
      ">>>> C\n"
     ]
    }
   ],
   "source": [
    "quiz_4 = input(\"\"\"\"Which film won the first Academy Award for Best Picture?\n",
    "A. All Quiet on the Western Front\n",
    "B. Sunrise\n",
    "C. Wings\n",
    "D. Metropolis\n",
    ">>>> \"\"\").upper()"
   ]
  },
  {
   "cell_type": "code",
   "execution_count": 13,
   "metadata": {
    "colab": {
     "base_uri": "https://localhost:8080/",
     "height": 119
    },
    "colab_type": "code",
    "executionInfo": {
     "elapsed": 6638,
     "status": "ok",
     "timestamp": 1600875434439,
     "user": {
      "displayName": "Joe Olivare",
      "photoUrl": "",
      "userId": "02962974164713080887"
     },
     "user_tz": -480
    },
    "id": "GEBcVK55lclH",
    "outputId": "cb3330b9-7187-41a0-91b8-5ed024351b3e"
   },
   "outputs": [
    {
     "name": "stdout",
     "output_type": "stream",
     "text": [
      "\"What is the name of Quint’s shark-hunting boat in Jaws?\n",
      "A. The Whale\n",
      "B. The Orca\n",
      "C. The Dolphin\n",
      "D. The Shark\n",
      ">>>> B\n"
     ]
    }
   ],
   "source": [
    "quiz_5 = input(\"\"\"\"What is the name of Quint’s shark-hunting boat in Jaws?\n",
    "A. The Whale\n",
    "B. The Orca\n",
    "C. The Dolphin\n",
    "D. The Shark\n",
    ">>>> \"\"\").upper()"
   ]
  },
  {
   "cell_type": "markdown",
   "metadata": {
    "colab_type": "text",
    "id": "zftj5pd2mCi2"
   },
   "source": [
    "**Logic Walkthrough - Storing points to correct_score variable**"
   ]
  },
  {
   "cell_type": "code",
   "execution_count": 7,
   "metadata": {
    "colab": {
     "base_uri": "https://localhost:8080/",
     "height": 51
    },
    "colab_type": "code",
    "executionInfo": {
     "elapsed": 519,
     "status": "ok",
     "timestamp": 1600875437100,
     "user": {
      "displayName": "Joe Olivare",
      "photoUrl": "",
      "userId": "02962974164713080887"
     },
     "user_tz": -480
    },
    "id": "ZMGhDRZWmDDz",
    "outputId": "f3ca35d7-db5d-4e69-d47b-6fa56865b7b2"
   },
   "outputs": [
    {
     "name": "stdout",
     "output_type": "stream",
     "text": [
      "A\n",
      "wrong!\n"
     ]
    }
   ],
   "source": [
    "print(quiz_1)\n",
    "if quiz_1 == \"B\":\n",
    "    correct_score +=1\n",
    "    print(\"correct!\")\n",
    "else:\n",
    "    correct_score +=0\n",
    "    print(\"wrong!\")"
   ]
  },
  {
   "cell_type": "code",
   "execution_count": 8,
   "metadata": {
    "colab": {
     "base_uri": "https://localhost:8080/",
     "height": 51
    },
    "colab_type": "code",
    "executionInfo": {
     "elapsed": 922,
     "status": "ok",
     "timestamp": 1600875463835,
     "user": {
      "displayName": "Joe Olivare",
      "photoUrl": "",
      "userId": "02962974164713080887"
     },
     "user_tz": -480
    },
    "id": "gjW_06xhmJhv",
    "outputId": "21aab5de-bed6-4a2d-8379-e9d9f454beaa"
   },
   "outputs": [
    {
     "name": "stdout",
     "output_type": "stream",
     "text": [
      "C\n",
      "correct!\n"
     ]
    }
   ],
   "source": [
    "print(quiz_2)\n",
    "if quiz_2 == \"C\":\n",
    "    correct_score +=1\n",
    "    print(\"correct!\")\n",
    "else:\n",
    "    correct_score +=0\n",
    "    print(\"wrong!\")"
   ]
  },
  {
   "cell_type": "code",
   "execution_count": 9,
   "metadata": {
    "colab": {
     "base_uri": "https://localhost:8080/",
     "height": 51
    },
    "colab_type": "code",
    "executionInfo": {
     "elapsed": 847,
     "status": "ok",
     "timestamp": 1600875479515,
     "user": {
      "displayName": "Joe Olivare",
      "photoUrl": "",
      "userId": "02962974164713080887"
     },
     "user_tz": -480
    },
    "id": "hJPj3v4gmUlW",
    "outputId": "0393841e-ea01-4b2b-c4b4-ca8b8a9d9533"
   },
   "outputs": [
    {
     "name": "stdout",
     "output_type": "stream",
     "text": [
      "D\n",
      "correct!\n"
     ]
    }
   ],
   "source": [
    "print(quiz_3)\n",
    "if quiz_3 == \"D\":\n",
    "    correct_score +=1\n",
    "    print(\"correct!\")\n",
    "else:\n",
    "    correct_score +=0\n",
    "    print(\"wrong!\")"
   ]
  },
  {
   "cell_type": "code",
   "execution_count": 10,
   "metadata": {
    "colab": {
     "base_uri": "https://localhost:8080/",
     "height": 51
    },
    "colab_type": "code",
    "executionInfo": {
     "elapsed": 939,
     "status": "ok",
     "timestamp": 1600875483483,
     "user": {
      "displayName": "Joe Olivare",
      "photoUrl": "",
      "userId": "02962974164713080887"
     },
     "user_tz": -480
    },
    "id": "zHH0aDnKmZ6a",
    "outputId": "f08a298a-53ff-45fc-f62c-5c8c6a45110b"
   },
   "outputs": [
    {
     "name": "stdout",
     "output_type": "stream",
     "text": [
      "C\n",
      "correct!\n"
     ]
    }
   ],
   "source": [
    "print(quiz_4)\n",
    "if quiz_4 == \"C\":\n",
    "    correct_score +=1\n",
    "    print(\"correct!\")\n",
    "else:\n",
    "    correct_score +=0\n",
    "    print(\"wrong!\")"
   ]
  },
  {
   "cell_type": "code",
   "execution_count": 14,
   "metadata": {
    "colab": {
     "base_uri": "https://localhost:8080/",
     "height": 51
    },
    "colab_type": "code",
    "executionInfo": {
     "elapsed": 939,
     "status": "ok",
     "timestamp": 1600875485936,
     "user": {
      "displayName": "Joe Olivare",
      "photoUrl": "",
      "userId": "02962974164713080887"
     },
     "user_tz": -480
    },
    "id": "Hif7N6hHmdFM",
    "outputId": "9d793bd6-bd00-4fda-ff39-75b2be661256"
   },
   "outputs": [
    {
     "name": "stdout",
     "output_type": "stream",
     "text": [
      "B\n",
      "correct!\n"
     ]
    }
   ],
   "source": [
    "print(quiz_5)\n",
    "if quiz_5 == \"B\":\n",
    "    correct_score +=1\n",
    "    print(\"correct!\")\n",
    "else:\n",
    "    correct_score +=0\n",
    "    print(\"wrong!\")"
   ]
  },
  {
   "cell_type": "markdown",
   "metadata": {
    "colab_type": "text",
    "id": "nNOwz05Imh-K"
   },
   "source": [
    "**Score Result**"
   ]
  },
  {
   "cell_type": "code",
   "execution_count": 15,
   "metadata": {
    "colab": {
     "base_uri": "https://localhost:8080/",
     "height": 51
    },
    "colab_type": "code",
    "executionInfo": {
     "elapsed": 832,
     "status": "ok",
     "timestamp": 1600875489015,
     "user": {
      "displayName": "Joe Olivare",
      "photoUrl": "",
      "userId": "02962974164713080887"
     },
     "user_tz": -480
    },
    "id": "6sEd1KHJmiqE",
    "outputId": "351590db-eda4-47f9-d5b5-3c039c39e0b2"
   },
   "outputs": [
    {
     "name": "stdout",
     "output_type": "stream",
     "text": [
      "=========>>>SCORE RESULTS<<<=========\n",
      "Keep on practicing pal! You got 4 out of 5 correct answers\n"
     ]
    }
   ],
   "source": [
    "print(\"=========>>>SCORE RESULTS<<<=========\")\n",
    "if correct_score == 5:\n",
    "    print(\"WOW! Nice job! You got \" + str(correct_score) +\" out of 5 correct answers\")\n",
    "elif correct_score < 5:\n",
    "    print(\"Keep on practicing pal! You got \" + str(correct_score) +\" out of 5 correct answers\")"
   ]
  }
 ],
 "metadata": {
  "colab": {
   "authorship_tag": "ABX9TyOXVmzkxLlYreLqpMArR142",
   "collapsed_sections": [],
   "name": "Movie_Quiz_exercise.ipynb",
   "provenance": []
  },
  "kernelspec": {
   "display_name": "Python 3",
   "language": "python",
   "name": "python3"
  },
  "language_info": {
   "codemirror_mode": {
    "name": "ipython",
    "version": 3
   },
   "file_extension": ".py",
   "mimetype": "text/x-python",
   "name": "python",
   "nbconvert_exporter": "python",
   "pygments_lexer": "ipython3",
   "version": "3.8.3"
  }
 },
 "nbformat": 4,
 "nbformat_minor": 1
}
