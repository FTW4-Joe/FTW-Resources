{
 "cells": [
  {
   "cell_type": "markdown",
   "id": "2944116e",
   "metadata": {},
   "source": [
    "#### Version 1 [1/7/2025]:\n",
    "    - This code generates consolidated report with leads (Drawdown, Opportunities and Calls) \n",
    "\n",
    "#### Pre-requisite files:\n",
    "    - Salesforce extracts (drawdown, opportunities and calls)"
   ]
  },
  {
   "cell_type": "markdown",
   "id": "bdb38897",
   "metadata": {},
   "source": [
    "---------------------------------------------------------------------------------------------------------------------------"
   ]
  },
  {
   "cell_type": "markdown",
   "id": "d903c661",
   "metadata": {},
   "source": [
    "#### Import Modules"
   ]
  },
  {
   "cell_type": "code",
   "execution_count": 4,
   "id": "faad3d23",
   "metadata": {},
   "outputs": [],
   "source": [
    "import os\n",
    "import numpy as np # numerical calc package\n",
    "import pandas as pd # holds data\n",
    "import matplotlib.pyplot as plt # plotting library\n",
    "import seaborn as sns # pretty plotting\n",
    "import warnings\n",
    "import time\n",
    "import datetime as dt\n",
    "warnings.filterwarnings('ignore')"
   ]
  },
  {
   "cell_type": "markdown",
   "id": "f0826937",
   "metadata": {},
   "source": [
    "#### Date Filters"
   ]
  },
  {
   "cell_type": "code",
   "execution_count": 5,
   "id": "175a71a1",
   "metadata": {},
   "outputs": [
    {
     "name": "stdout",
     "output_type": "stream",
     "text": [
      "20250207\n",
      "2025\n",
      "2025-02-07\n",
      "20250206\n"
     ]
    }
   ],
   "source": [
    "#Edit to change dates and year\n",
    "input_year = 2025\n",
    "input_month = 2\n",
    "input_day = 7     #friday  \n",
    "input_date = dt.date(input_year,input_month,input_day)\n",
    "date_dir1 = dt.date(input_year,input_month,(input_day-1))\n",
    "\n",
    "date = input_date.strftime('%Y%m%d')\n",
    "year = input_date.strftime('%Y')\n",
    "date_dir = date_dir1.strftime('%Y%m%d')\n",
    "\n",
    "print(date)\n",
    "print(year)\n",
    "print(input_date)\n",
    "print(date_dir)\n",
    "start_time = time.time()"
   ]
  },
  {
   "cell_type": "markdown",
   "id": "3d443937",
   "metadata": {},
   "source": [
    "#### Loading files"
   ]
  },
  {
   "cell_type": "code",
   "execution_count": 7,
   "id": "2bec2485",
   "metadata": {},
   "outputs": [],
   "source": [
    "#Reading datasets from excel files\n",
    "dd_acct = pd.read_excel(f\"//P1vm-dwhfsvr01/BID/MRT/LENDING/REPORTS/3. Monthly Reports/COMMERCIAL/RM Workbench/01 Input/Leads/{date_dir}/Drawdown Tracker - {date_dir}.xlsx\")\n",
    "dd_leads = pd.read_excel(f\"//P1vm-dwhfsvr01/BID/MRT/LENDING/REPORTS/3. Monthly Reports/COMMERCIAL/RM Workbench/01 Input/Leads/{date_dir}/Drawdown Tracker Leads - {date_dir}.xlsx\")\n",
    "\n",
    "# call_acct = pd.read_excel(f\"D:/OneDrive - Security Bank Corporation/Desktop/Projects/WBS Weekly OBs/RM Workbench Prep/leads/Call Reports on Accounts.xlsx\")\n",
    "# call_leads = pd.read_excel(f\"D:/OneDrive - Security Bank Corporation/Desktop/Projects/WBS Weekly OBs/RM Workbench Prep/leads/Call Reports on Leads.xlsx\")\n",
    "\n",
    "\n",
    "opp_acct = pd.read_excel(f\"//P1vm-dwhfsvr01/BID/MRT/LENDING/REPORTS/3. Monthly Reports/COMMERCIAL/RM Workbench/01 Input/Leads/{date_dir}/Opportunities.xlsx\")\n",
    "opp_leads = pd.read_excel(f\"//P1vm-dwhfsvr01/BID/MRT/LENDING/REPORTS/3. Monthly Reports/COMMERCIAL/RM Workbench/01 Input/Leads/{date_dir}/Opportunities and Leads.xlsx\")\n",
    "\n",
    "wbs_roster = pd.read_excel(f\"//P1vm-dwhfsvr01/BID/MRT/LENDING/REPORTS/3. Monthly Reports/COMMERCIAL/RM Workbench/01 Input/RM Weekly/RM Weekly {date_dir}/WBS Roster as of {date_dir} v2.xlsx\", sheet_name=\"KPIs\")\n",
    "\n",
    "#Rename columns under Leads\n",
    "#Drawdown\n",
    "dd_rename_col = {'Lead: Company':'Account: Account Name'\n",
    "             ,'Lead: Lead Owner':'Account: Account Owner'\n",
    "             ,'Lead: Customer Group':'Account: Parent Account'\n",
    "             ,'Lead: Team Center':'Account: Owner Team Center (Account)'}\n",
    "dd_leads1 = dd_leads.rename(columns=dd_rename_col) \n",
    "\n",
    "#Calls\n",
    "# call_rename_col = {'Company Name (Lead)':'Account Name: Account Name'\n",
    "#              ,'Lead Name: Lead Owner':'Account Owner'\n",
    "#              ,'Lead Name: Team Center':'Team Center (Account Owner)'}\n",
    "# call_leads1 = call_leads.rename(columns=call_rename_col) \n",
    "\n",
    "#Opportunities\n",
    "opp_rename_col = {\"Opportunity Owner: Full Name\":\"Opportunity Owner\"\n",
    "             ,\"Company (Lead)\":\"Account Name\"\n",
    "             ,\"Lead Owner: Full Name\":\"Account Owner\"\n",
    "             ,\"Product Name: Product Name\":\"Product Name\"\n",
    "             ,\"ADB (In '000) (converted)\":\"ADB (In ‘000) (converted)\"}\n",
    "opp_leads1 = opp_leads.rename(columns=opp_rename_col) "
   ]
  },
  {
   "cell_type": "code",
   "execution_count": 4,
   "id": "22fa175f",
   "metadata": {},
   "outputs": [],
   "source": [
    "##For checking values only\n",
    "# # print(dd_acct.shape)\n",
    "# print(dd_leads.columns)\n",
    "# print(dd_leads1.columns)\n",
    "# print('----------------------------------------------------------------------')\n",
    "# print(call_leads.columns)\n",
    "# print(call_leads1.columns)\n",
    "# print('----------------------------------------------------------------------')\n",
    "# print(opp_leads.columns)\n",
    "# print(opp_acct.columns)\n",
    "# print(opp_leads1.columns)"
   ]
  },
  {
   "cell_type": "markdown",
   "id": "8d918271-db6a-4642-bf69-294570fc2d8e",
   "metadata": {},
   "source": [
    "#### Tranform data"
   ]
  },
  {
   "cell_type": "code",
   "execution_count": 8,
   "id": "5d4be162-6cb0-4503-a0cd-7e0d09f4c177",
   "metadata": {},
   "outputs": [],
   "source": [
    "#Add columns - Leads and Non-Lead\n",
    "dd_acct['Lead/Account'] = 'Account'\n",
    "dd_leads1['Lead/Account'] = 'Lead'\n",
    "\n",
    "# call_acct['Lead/Account'] = 'Account'\n",
    "# call_leads1['Lead/Account'] = 'Lead'\n",
    "\n",
    "opp_acct['Lead/Account'] = 'Account'\n",
    "opp_leads1['Lead/Account'] = 'Lead'"
   ]
  },
  {
   "cell_type": "code",
   "execution_count": 9,
   "id": "300151c8-d7bd-43ad-9165-f64b0e2d7f61",
   "metadata": {
    "tags": []
   },
   "outputs": [
    {
     "data": {
      "text/plain": [
       "Opportunity Owner                                      610\n",
       "Account Name                                           610\n",
       "Account Owner                                          610\n",
       "Lead ID                                                610\n",
       "Team Center                                            610\n",
       "Nature of Business                                     610\n",
       "Created Date                                           610\n",
       "Lead Source                                            610\n",
       "Lead Status                                            610\n",
       "Opportunity Name                                       610\n",
       "Owner Team Center (Opportunity)                        610\n",
       "Product                                                349\n",
       "ADB (In ‘000) (converted)                              610\n",
       "Volume (In '000) (converted)                           610\n",
       "Expected Revenue Total (In '000) (converted)           610\n",
       "Expected Revenue Current Year (In '000) (converted)    610\n",
       "Stage                                                  610\n",
       "Target Close Date                                      610\n",
       "Type                                                   610\n",
       "Won Reason                                              25\n",
       "Loss Reason                                             30\n",
       "Product Name                                             0\n",
       "Product Family                                           0\n",
       "Opportunity ID                                         610\n",
       "Lead/Account                                           610\n",
       "dtype: int64"
      ]
     },
     "execution_count": 9,
     "metadata": {},
     "output_type": "execute_result"
    }
   ],
   "source": [
    "opp_leads1.count()"
   ]
  },
  {
   "cell_type": "code",
   "execution_count": 10,
   "id": "6209ea92",
   "metadata": {},
   "outputs": [],
   "source": [
    "#Appending into 1 list\n",
    "\n",
    "#Drawdown\n",
    "dd_list = [dd_acct,dd_leads1]\n",
    "dd_append = pd.concat(dd_list, axis=0)\n",
    "\n",
    "#Call\n",
    "# call_list = [call_acct,call_leads1]\n",
    "# call_append = pd.concat(call_list, axis=0)\n",
    "\n",
    "#Opportunities\n",
    "opp_list = [opp_acct,opp_leads1]\n",
    "opp_append = pd.concat(opp_list, axis=0)"
   ]
  },
  {
   "cell_type": "code",
   "execution_count": 11,
   "id": "6be1396b-7f20-431f-a481-357691cc3b46",
   "metadata": {},
   "outputs": [],
   "source": [
    "#Re-arrange columns\n",
    "# call_reorder = call_append.reindex(['Call Report: Call Report Name', 'Account Name: Account Name'\n",
    "#                                ,'Account Name: BBN','Account Owner','Account Name: AO Code'\n",
    "#                                ,'Call Report: Created Date','Date of Call','Attendees from Companies'\n",
    "#                                ,'Account Name: Business Segment Type','Account Name: Client Segment Type'\n",
    "#                                ,'Account Name: Owner Segment Type (Account)','Call Report: Created By'\n",
    "#                                ,'Call Report: Owner Name','Team Center (Call Report Owner)'\n",
    "#                                ,'Team Center (Account Owner)','Purpose of Call'\n",
    "#                                ,'Venue of Meeting','Generates New Business','SBC Participants'\n",
    "#                                ,'Highlight','Target Date','Details','Lead/Account'], axis=1)\n",
    "\n",
    "opp_reorder = opp_append.reindex(['Opportunity Owner','Team Center','Opportunity Name'\n",
    "                                   ,'BBN','Account Name','Account Owner','Client Segment Type'\n",
    "                                   ,'Business Segment Type','Company (Lead)','Type','Product Name'\n",
    "                                   ,'Product Family','Stage',\"Volume (In '000) (converted)\"\n",
    "                                   ,'ADB (In ‘000) (converted)',\"Expected Revenue Current Year (In '000) (converted)\"\n",
    "                                   ,\"Expected Revenue Total (In '000) (converted)\",'Target Close Date'\n",
    "                                   ,'Created Date','Opportunity ID','Won Reason','Loss Reason'\n",
    "                                   ,'Lead/Account'], axis=1)"
   ]
  },
  {
   "cell_type": "code",
   "execution_count": 13,
   "id": "d481cd3c-8f79-42eb-a935-e87e07faee99",
   "metadata": {},
   "outputs": [],
   "source": [
    "# #Identify WBS Roster BBNs\n",
    "# wbs_roster['Roster_BBNs'] = 1\n",
    "\n",
    "# #Merging these columns to drawdowns and opportunities\n",
    "# wbs_roster2 = wbs_roster[['BBN','Client Group','Pareto/Client Segmentation','STATUS','Roster_BBNs']]\n",
    "\n",
    "# dd_append['Client Group','Pareto/Client Segmentation','STATUS','Roster_BBNs'] = dd_append['Account: BBN'].map(wbs_roster.set_index('BBN')['Roster_BBNs'])\n",
    "# opp_reorder['Client Group','Pareto/Client Segmentation','STATUS','Roster_BBNs'] = opp_reorder['BBN'].map(wbs_roster.set_index('BBN')['Roster_BBNs'])"
   ]
  },
  {
   "cell_type": "code",
   "execution_count": 12,
   "id": "9536445f-7a92-4ab3-967c-51095bd1fd79",
   "metadata": {},
   "outputs": [],
   "source": [
    "# Identify WBS Roster BBNs\n",
    "wbs_roster['Roster_BBNs'] = 1\n",
    "\n",
    "# Selecting necessary columns from wbs_roster\n",
    "wbs_roster2 = wbs_roster[['BBN', 'Client Group', 'Pareto/Client Segmentation', 'STATUS','Business_Segment','Roster_BBNs']]\n",
    "\n",
    "# Merging with dd_append\n",
    "dd_append = dd_append.merge(wbs_roster2, left_on='Account: BBN', right_on='BBN', how='left')\n",
    "\n",
    "# Merging with opp_reorder\n",
    "opp_reorder = opp_reorder.merge(wbs_roster2, on='BBN', how='left')"
   ]
  },
  {
   "cell_type": "code",
   "execution_count": 13,
   "id": "585fa375-d2e7-4515-be80-f37276720c04",
   "metadata": {},
   "outputs": [
    {
     "data": {
      "text/plain": [
       "Drawdown Tracker: Owner Name                 3867\n",
       "Team Center                                  3867\n",
       "Drawdown Tracker: Drawdown Tracker Number    3867\n",
       "Account: Account Name                        3867\n",
       "Account: Parent Account                      2676\n",
       "Account: Account Owner                       3867\n",
       "Account: Owner Team Center (Account)         3867\n",
       "Drawdown Tracker: Currency                   3867\n",
       "Amount (In '000) Currency                    3867\n",
       "Amount (In '000)                             3867\n",
       "Tenor (In days)                              3867\n",
       "Rate (In %)                                  3857\n",
       "Facility Type                                3867\n",
       "Other Facility Type                           560\n",
       "Remarks                                      1149\n",
       "Status                                       3865\n",
       "Probability of Success                       3633\n",
       "Target Booking Date                          3867\n",
       "Deal Won Date                                3559\n",
       "Lost Reason                                   108\n",
       "Drawdown Tracker: Created Date               3867\n",
       "Account: BBN                                 3805\n",
       "Account: Business Segment Type               3842\n",
       "Account: Client Segment Type                 3841\n",
       "Lead/Account                                 3867\n",
       "BBN                                          3788\n",
       "Client Group                                 3031\n",
       "Pareto/Client Segmentation                   3120\n",
       "STATUS                                       3788\n",
       "Business_Segment                             3788\n",
       "Roster_BBNs                                  3788\n",
       "dtype: int64"
      ]
     },
     "execution_count": 13,
     "metadata": {},
     "output_type": "execute_result"
    }
   ],
   "source": [
    "dd_append.count()"
   ]
  },
  {
   "cell_type": "code",
   "execution_count": 14,
   "id": "d4c31591",
   "metadata": {},
   "outputs": [
    {
     "name": "stdout",
     "output_type": "stream",
     "text": [
      "<class 'pandas.core.frame.DataFrame'>\n",
      "Int64Index: 3867 entries, 0 to 3866\n",
      "Data columns (total 31 columns):\n",
      " #   Column                                     Non-Null Count  Dtype         \n",
      "---  ------                                     --------------  -----         \n",
      " 0   Drawdown Tracker: Owner Name               3867 non-null   object        \n",
      " 1   Team Center                                3867 non-null   object        \n",
      " 2   Drawdown Tracker: Drawdown Tracker Number  3867 non-null   object        \n",
      " 3   Account: Account Name                      3867 non-null   object        \n",
      " 4   Account: Parent Account                    2676 non-null   object        \n",
      " 5   Account: Account Owner                     3867 non-null   object        \n",
      " 6   Account: Owner Team Center (Account)       3867 non-null   object        \n",
      " 7   Drawdown Tracker: Currency                 3867 non-null   object        \n",
      " 8   Amount (In '000) Currency                  3867 non-null   object        \n",
      " 9   Amount (In '000)                           3867 non-null   float64       \n",
      " 10  Tenor (In days)                            3867 non-null   int64         \n",
      " 11  Rate (In %)                                3857 non-null   float64       \n",
      " 12  Facility Type                              3867 non-null   object        \n",
      " 13  Other Facility Type                        560 non-null    object        \n",
      " 14  Remarks                                    1149 non-null   object        \n",
      " 15  Status                                     3865 non-null   object        \n",
      " 16  Probability of Success                     3633 non-null   object        \n",
      " 17  Target Booking Date                        3867 non-null   datetime64[ns]\n",
      " 18  Deal Won Date                              3559 non-null   datetime64[ns]\n",
      " 19  Lost Reason                                108 non-null    object        \n",
      " 20  Drawdown Tracker: Created Date             3867 non-null   datetime64[ns]\n",
      " 21  Account: BBN                               3805 non-null   object        \n",
      " 22  Account: Business Segment Type             3842 non-null   object        \n",
      " 23  Account: Client Segment Type               3841 non-null   object        \n",
      " 24  Lead/Account                               3867 non-null   object        \n",
      " 25  BBN                                        3788 non-null   object        \n",
      " 26  Client Group                               3031 non-null   object        \n",
      " 27  Pareto/Client Segmentation                 3120 non-null   object        \n",
      " 28  STATUS                                     3788 non-null   object        \n",
      " 29  Business_Segment                           3788 non-null   object        \n",
      " 30  Roster_BBNs                                3788 non-null   float64       \n",
      "dtypes: datetime64[ns](3), float64(3), int64(1), object(24)\n",
      "memory usage: 966.8+ KB\n",
      "None\n",
      "--------------------------------------------------------------------\n",
      "--------------------------------------------------------------------\n",
      "<class 'pandas.core.frame.DataFrame'>\n",
      "Int64Index: 100610 entries, 0 to 100609\n",
      "Data columns (total 28 columns):\n",
      " #   Column                                               Non-Null Count   Dtype  \n",
      "---  ------                                               --------------   -----  \n",
      " 0   Opportunity Owner                                    100610 non-null  object \n",
      " 1   Team Center                                          100610 non-null  object \n",
      " 2   Opportunity Name                                     100610 non-null  object \n",
      " 3   BBN                                                  99506 non-null   object \n",
      " 4   Account Name                                         100267 non-null  object \n",
      " 5   Account Owner                                        100267 non-null  object \n",
      " 6   Client Segment Type                                  98989 non-null   object \n",
      " 7   Business Segment Type                                99610 non-null   object \n",
      " 8   Company (Lead)                                       334 non-null     object \n",
      " 9   Type                                                 100603 non-null  object \n",
      " 10  Product Name                                         100000 non-null  object \n",
      " 11  Product Family                                       100000 non-null  object \n",
      " 12  Stage                                                100610 non-null  object \n",
      " 13  Volume (In '000) (converted)                         100610 non-null  float64\n",
      " 14  ADB (In ‘000) (converted)                            17951 non-null   float64\n",
      " 15  Expected Revenue Current Year (In '000) (converted)  100610 non-null  float64\n",
      " 16  Expected Revenue Total (In '000) (converted)         100610 non-null  float64\n",
      " 17  Target Close Date                                    100610 non-null  object \n",
      " 18  Created Date                                         100610 non-null  object \n",
      " 19  Opportunity ID                                       100610 non-null  object \n",
      " 20  Won Reason                                           23829 non-null   object \n",
      " 21  Loss Reason                                          4756 non-null    object \n",
      " 22  Lead/Account                                         100610 non-null  object \n",
      " 23  Client Group                                         14977 non-null   object \n",
      " 24  Pareto/Client Segmentation                           17778 non-null   object \n",
      " 25  STATUS                                               48680 non-null   object \n",
      " 26  Business_Segment                                     48680 non-null   object \n",
      " 27  Roster_BBNs                                          48680 non-null   float64\n",
      "dtypes: float64(5), object(23)\n",
      "memory usage: 22.3+ MB\n",
      "None\n"
     ]
    }
   ],
   "source": [
    "print(dd_append.info())\n",
    "print('--------------------------------------------------------------------')\n",
    "# print(call_reorder.info())\n",
    "print('--------------------------------------------------------------------')\n",
    "print(opp_reorder.info())"
   ]
  },
  {
   "cell_type": "markdown",
   "id": "d0ab02cf",
   "metadata": {},
   "source": [
    "#### Exporting to Excel File"
   ]
  },
  {
   "cell_type": "code",
   "execution_count": 15,
   "id": "f8c1704f",
   "metadata": {},
   "outputs": [],
   "source": [
    "#Drawdown\n",
    "writer = pd.ExcelWriter(f'//P1vm-dwhfsvr01/BID/MRT/LENDING/REPORTS/3. Monthly Reports/COMMERCIAL/RM Workbench/01 Input/RM Weekly/RM Weekly {date_dir}/Drawdown Tracker v2.xlsx')\n",
    "dd_append.to_excel(writer, \n",
    "                    sheet_name='Drawdown Tracker', \n",
    "                    index=False)\n",
    "writer.close()"
   ]
  },
  {
   "cell_type": "code",
   "execution_count": 12,
   "id": "50bf11d5-fdd8-48e7-8b22-d9ce82b978d6",
   "metadata": {},
   "outputs": [],
   "source": [
    "# #Calls\n",
    "# writer = pd.ExcelWriter(f'//P1vm-dwhfsvr01/BID/MRT/LENDING/REPORTS/3. Monthly Reports/COMMERCIAL/RM Workbench/01 Input/RM Weekly/RM Weekly {date_dir}/SFCall Report_drop1.2 v3.xlsx')\n",
    "# call_reorder.to_excel(writer, \n",
    "#                     sheet_name='Call Report', \n",
    "#                     index=False)\n",
    "# writer.close()"
   ]
  },
  {
   "cell_type": "code",
   "execution_count": 16,
   "id": "8270d60a-754e-4ff6-962b-be544910607c",
   "metadata": {},
   "outputs": [],
   "source": [
    "#Calls\n",
    "writer = pd.ExcelWriter(f'//P1vm-dwhfsvr01/BID/MRT/LENDING/REPORTS/3. Monthly Reports/COMMERCIAL/RM Workbench/01 Input/RM Weekly/RM Weekly {date_dir}/Opportunities v2.xlsx')\n",
    "opp_reorder.to_excel(writer, \n",
    "                    sheet_name='Opportunities', \n",
    "                    index=False)\n",
    "writer.close()"
   ]
  },
  {
   "cell_type": "code",
   "execution_count": 17,
   "id": "a8191c4a",
   "metadata": {},
   "outputs": [
    {
     "name": "stdout",
     "output_type": "stream",
     "text": [
      "Execution time: 38.55765359004339 mins\n"
     ]
    }
   ],
   "source": [
    "end_time = time.time() \n",
    "minutes = (end_time - start_time)/60\n",
    "print(\"Execution time: \"+str(minutes) +\" mins\")"
   ]
  },
  {
   "cell_type": "code",
   "execution_count": null,
   "id": "12ad5ddd",
   "metadata": {},
   "outputs": [],
   "source": []
  }
 ],
 "metadata": {
  "kernelspec": {
   "display_name": "Python 3 (ipykernel)",
   "language": "python",
   "name": "python3"
  },
  "language_info": {
   "codemirror_mode": {
    "name": "ipython",
    "version": 3
   },
   "file_extension": ".py",
   "mimetype": "text/x-python",
   "name": "python",
   "nbconvert_exporter": "python",
   "pygments_lexer": "ipython3",
   "version": "3.9.13"
  }
 },
 "nbformat": 4,
 "nbformat_minor": 5
}
