{
 "cells": [
  {
   "cell_type": "markdown",
   "metadata": {},
   "source": [
    "\n",
    "## 2 Player Movie Quiz"
   ]
  },
  {
   "cell_type": "markdown",
   "metadata": {},
   "source": [
    "**Questions and choices dictionary***"
   ]
  },
  {
   "cell_type": "code",
   "execution_count": null,
   "metadata": {},
   "outputs": [],
   "source": [
    "#Added for demo purposes\n",
    "question_set = {\"A\":\"\"\"What is the highest-grossing film of all time without taking inflation into account?\n",
    "A. Titanic 2\n",
    "B. Avengers: Endgame\n",
    "C. Avatar\n",
    "D. Star Wars: The Force Awakens\n",
    ">>>> \"\"\",\"B\":\"\"\"Which actor or actress is killed off in the opening scene of the movie Scream? \n",
    "A. Courtney Cox\n",
    "B. Neve Campbell\n",
    "C. Drew Barrymore\n",
    "D. Rose McGowan\n",
    ">>>> \"\"\",\"C\":\"\"\"\"Which film did Steven Spielberg win his first Oscar for Best Director?\n",
    "A. Jaws\n",
    "B. Catch Me If You Can\n",
    "C. E.T.\n",
    "D. Schindler’s List\n",
    ">>>> \"\"\",\"D\":\"\"\"\"Which film won the first Academy Award for Best Picture?\n",
    "A. All Quiet on the Western Front\n",
    "B. Sunrise\n",
    "C. Wings\n",
    "D. Metropolis\n",
    ">>>> \"\"\",\n",
    "\"E\":\"\"\"\"What is the name of Quint’s shark-hunting boat in Jaws?\n",
    "A. The Whale\n",
    "B. The Orca\n",
    "C. The Dolphin\n",
    "D. The Shark\n",
    ">>>> \"\"\"}"
   ]
  },
  {
   "cell_type": "markdown",
   "metadata": {},
   "source": [
    "**Answer Keys dictionary**"
   ]
  },
  {
   "cell_type": "code",
   "execution_count": 2,
   "metadata": {},
   "outputs": [],
   "source": [
    "answer_set = {\"\"\"What is the highest-grossing film of all time without taking inflation into account?\n",
    "A. Titanic \n",
    "B. Avengers: Endgame\n",
    "C. Avatar\n",
    "D. Star Wars: The Force Awakens\n",
    ">>>> \"\"\":\"B\",\n",
    "\"\"\"Which actor or actress is killed off in the opening scene of the movie Scream? \n",
    "A. Courtney Cox\n",
    "B. Neve Campbell\n",
    "C. Drew Barrymore\n",
    "D. Rose McGowan\n",
    ">>>> \"\"\":\"C\",\n",
    "\"\"\"\"Which film did Steven Spielberg win his first Oscar for Best Director?\n",
    "A. Jaws\n",
    "B. Catch Me If You Can\n",
    "C. E.T.\n",
    "D. Schindler’s List\n",
    ">>>> \"\"\":\"D\",\n",
    "\"\"\"\"Which film won the first Academy Award for Best Picture?\n",
    "A. All Quiet on the Western Front\n",
    "B. Sunrise\n",
    "C. Wings\n",
    "D. Metropolis\n",
    ">>>> \"\"\":\"C\",\n",
    "\"\"\"\"What is the name of Quint’s shark-hunting boat in Jaws?\n",
    "A. The Whale\n",
    "B. The Orca\n",
    "C. The Dolphin\n",
    "D. The Shark\n",
    ">>>> \"\"\":\"B\"}"
   ]
  },
  {
   "cell_type": "markdown",
   "metadata": {},
   "source": [
    "**Def function - Displaying Score Result**"
   ]
  },
  {
   "cell_type": "code",
   "execution_count": 3,
   "metadata": {},
   "outputs": [
    {
     "name": "stdout",
     "output_type": "stream",
     "text": [
      "=========>>>SCORE RESULTS<<<=========\n"
     ]
    },
    {
     "ename": "NameError",
     "evalue": "name 'player_name1' is not defined",
     "output_type": "error",
     "traceback": [
      "\u001b[1;31m---------------------------------------------------------------------------\u001b[0m",
      "\u001b[1;31mNameError\u001b[0m                                 Traceback (most recent call last)",
      "\u001b[1;32m<ipython-input-3-a5354ad064e7>\u001b[0m in \u001b[0;36m<module>\u001b[1;34m\u001b[0m\n\u001b[0;32m     12\u001b[0m         \u001b[0mprint\u001b[0m\u001b[1;33m(\u001b[0m\u001b[1;34m\"Draw\"\u001b[0m\u001b[1;33m)\u001b[0m\u001b[1;33m\u001b[0m\u001b[1;33m\u001b[0m\u001b[0m\n\u001b[0;32m     13\u001b[0m \u001b[1;33m\u001b[0m\u001b[0m\n\u001b[1;32m---> 14\u001b[1;33m \u001b[0mscore_player\u001b[0m\u001b[1;33m(\u001b[0m\u001b[1;33m)\u001b[0m\u001b[1;33m\u001b[0m\u001b[1;33m\u001b[0m\u001b[0m\n\u001b[0m",
      "\u001b[1;32m<ipython-input-3-a5354ad064e7>\u001b[0m in \u001b[0;36mscore_player\u001b[1;34m()\u001b[0m\n\u001b[0;32m      1\u001b[0m \u001b[1;32mdef\u001b[0m \u001b[0mscore_player\u001b[0m\u001b[1;33m(\u001b[0m\u001b[1;33m)\u001b[0m\u001b[1;33m:\u001b[0m\u001b[1;33m\u001b[0m\u001b[1;33m\u001b[0m\u001b[0m\n\u001b[0;32m      2\u001b[0m     \u001b[0mprint\u001b[0m\u001b[1;33m(\u001b[0m\u001b[1;34m\"=========>>>SCORE RESULTS<<<=========\"\u001b[0m\u001b[1;33m)\u001b[0m\u001b[1;33m\u001b[0m\u001b[1;33m\u001b[0m\u001b[0m\n\u001b[1;32m----> 3\u001b[1;33m     \u001b[0mprint\u001b[0m\u001b[1;33m(\u001b[0m\u001b[1;34m\"Your score \"\u001b[0m \u001b[1;33m+\u001b[0m \u001b[0mplayer_name1\u001b[0m \u001b[1;33m+\u001b[0m \u001b[1;34m\" is.......\"\u001b[0m\u001b[1;33m+\u001b[0m \u001b[0mstr\u001b[0m\u001b[1;33m(\u001b[0m\u001b[0mcorrect_score1\u001b[0m\u001b[1;33m)\u001b[0m\u001b[1;33m)\u001b[0m\u001b[1;33m\u001b[0m\u001b[1;33m\u001b[0m\u001b[0m\n\u001b[0m\u001b[0;32m      4\u001b[0m     \u001b[0mprint\u001b[0m\u001b[1;33m(\u001b[0m\u001b[1;34m\"Your score \"\u001b[0m \u001b[1;33m+\u001b[0m \u001b[0mplayer_name2\u001b[0m \u001b[1;33m+\u001b[0m \u001b[1;34m\" is.......\"\u001b[0m\u001b[1;33m+\u001b[0m \u001b[0mstr\u001b[0m\u001b[1;33m(\u001b[0m\u001b[0mcorrect_score2\u001b[0m\u001b[1;33m)\u001b[0m\u001b[1;33m)\u001b[0m\u001b[1;33m\u001b[0m\u001b[1;33m\u001b[0m\u001b[0m\n\u001b[0;32m      5\u001b[0m \u001b[1;33m\u001b[0m\u001b[0m\n",
      "\u001b[1;31mNameError\u001b[0m: name 'player_name1' is not defined"
     ]
    }
   ],
   "source": [
    "def score_player():\n",
    "    print(\"=========>>>SCORE RESULTS<<<=========\")\n",
    "    print(\"Your score \" + player_name1 + \" is.......\"+ str(correct_score1))\n",
    "    print(\"Your score \" + player_name2 + \" is.......\"+ str(correct_score2))\n",
    "    \n",
    "    print(\"\\n>>>>===============================<<<<\")\n",
    "    if correct_score1 > correct_score2:\n",
    "        print(\"You Won! \" + player_name1)\n",
    "    elif correct_score2 > correct_score1:\n",
    "        print(\"You Won! \" + player_name2)\n",
    "    else:\n",
    "        print(\"Draw\")\n",
    "        \n",
    "score_player()"
   ]
  },
  {
   "cell_type": "markdown",
   "metadata": {},
   "source": [
    "**Def function - Adding New Questions**"
   ]
  },
  {
   "cell_type": "code",
   "execution_count": 4,
   "metadata": {},
   "outputs": [
    {
     "ename": "KeyboardInterrupt",
     "evalue": "Interrupted by user",
     "output_type": "error",
     "traceback": [
      "\u001b[1;31m---------------------------------------------------------------------------\u001b[0m",
      "\u001b[1;31mKeyboardInterrupt\u001b[0m                         Traceback (most recent call last)",
      "\u001b[1;32m<ipython-input-4-e6f53231f622>\u001b[0m in \u001b[0;36m<module>\u001b[1;34m\u001b[0m\n\u001b[0;32m     13\u001b[0m     \u001b[0mprint\u001b[0m\u001b[1;33m(\u001b[0m\u001b[0manswer_set\u001b[0m\u001b[1;33m)\u001b[0m \u001b[1;31m#print to check if successfully added to dictionary\u001b[0m\u001b[1;33m\u001b[0m\u001b[1;33m\u001b[0m\u001b[0m\n\u001b[0;32m     14\u001b[0m \u001b[1;33m\u001b[0m\u001b[0m\n\u001b[1;32m---> 15\u001b[1;33m \u001b[0madded_new\u001b[0m\u001b[1;33m(\u001b[0m\u001b[1;33m)\u001b[0m\u001b[1;33m\u001b[0m\u001b[1;33m\u001b[0m\u001b[0m\n\u001b[0m",
      "\u001b[1;32m<ipython-input-4-e6f53231f622>\u001b[0m in \u001b[0;36madded_new\u001b[1;34m()\u001b[0m\n\u001b[0;32m      1\u001b[0m \u001b[1;32mdef\u001b[0m \u001b[0madded_new\u001b[0m\u001b[1;33m(\u001b[0m\u001b[1;33m)\u001b[0m\u001b[1;33m:\u001b[0m\u001b[1;33m\u001b[0m\u001b[1;33m\u001b[0m\u001b[0m\n\u001b[1;32m----> 2\u001b[1;33m     \u001b[0madd_question_value\u001b[0m \u001b[1;33m=\u001b[0m \u001b[0minput\u001b[0m\u001b[1;33m(\u001b[0m\u001b[1;34m\"Please add your question here:\\n>>> \"\u001b[0m\u001b[1;33m)\u001b[0m\u001b[1;33m.\u001b[0m\u001b[0mtitle\u001b[0m\u001b[1;33m(\u001b[0m\u001b[1;33m)\u001b[0m\u001b[1;33m\u001b[0m\u001b[1;33m\u001b[0m\u001b[0m\n\u001b[0m\u001b[0;32m      3\u001b[0m     \u001b[0madd_question_key\u001b[0m \u001b[1;33m=\u001b[0m \u001b[0minput\u001b[0m\u001b[1;33m(\u001b[0m\u001b[1;34m\"Please add indicator from F to Z:\\n>>> \"\u001b[0m\u001b[1;33m)\u001b[0m\u001b[1;33m.\u001b[0m\u001b[0mupper\u001b[0m\u001b[1;33m(\u001b[0m\u001b[1;33m)\u001b[0m\u001b[1;33m\u001b[0m\u001b[1;33m\u001b[0m\u001b[0m\n\u001b[0;32m      4\u001b[0m     \u001b[0madd_answer_value\u001b[0m \u001b[1;33m=\u001b[0m \u001b[0minput\u001b[0m\u001b[1;33m(\u001b[0m\u001b[1;34m\"Please add answer key:\\n>>> \"\u001b[0m\u001b[1;33m)\u001b[0m\u001b[1;33m.\u001b[0m\u001b[0mupper\u001b[0m\u001b[1;33m(\u001b[0m\u001b[1;33m)\u001b[0m\u001b[1;33m\u001b[0m\u001b[1;33m\u001b[0m\u001b[0m\n\u001b[0;32m      5\u001b[0m \u001b[1;33m\u001b[0m\u001b[0m\n",
      "\u001b[1;32m~\\anaconda3\\lib\\site-packages\\ipykernel\\kernelbase.py\u001b[0m in \u001b[0;36mraw_input\u001b[1;34m(self, prompt)\u001b[0m\n\u001b[0;32m    858\u001b[0m                 \u001b[1;34m\"raw_input was called, but this frontend does not support input requests.\"\u001b[0m\u001b[1;33m\u001b[0m\u001b[1;33m\u001b[0m\u001b[0m\n\u001b[0;32m    859\u001b[0m             )\n\u001b[1;32m--> 860\u001b[1;33m         return self._input_request(str(prompt),\n\u001b[0m\u001b[0;32m    861\u001b[0m             \u001b[0mself\u001b[0m\u001b[1;33m.\u001b[0m\u001b[0m_parent_ident\u001b[0m\u001b[1;33m,\u001b[0m\u001b[1;33m\u001b[0m\u001b[1;33m\u001b[0m\u001b[0m\n\u001b[0;32m    862\u001b[0m             \u001b[0mself\u001b[0m\u001b[1;33m.\u001b[0m\u001b[0m_parent_header\u001b[0m\u001b[1;33m,\u001b[0m\u001b[1;33m\u001b[0m\u001b[1;33m\u001b[0m\u001b[0m\n",
      "\u001b[1;32m~\\anaconda3\\lib\\site-packages\\ipykernel\\kernelbase.py\u001b[0m in \u001b[0;36m_input_request\u001b[1;34m(self, prompt, ident, parent, password)\u001b[0m\n\u001b[0;32m    902\u001b[0m             \u001b[1;32mexcept\u001b[0m \u001b[0mKeyboardInterrupt\u001b[0m\u001b[1;33m:\u001b[0m\u001b[1;33m\u001b[0m\u001b[1;33m\u001b[0m\u001b[0m\n\u001b[0;32m    903\u001b[0m                 \u001b[1;31m# re-raise KeyboardInterrupt, to truncate traceback\u001b[0m\u001b[1;33m\u001b[0m\u001b[1;33m\u001b[0m\u001b[1;33m\u001b[0m\u001b[0m\n\u001b[1;32m--> 904\u001b[1;33m                 \u001b[1;32mraise\u001b[0m \u001b[0mKeyboardInterrupt\u001b[0m\u001b[1;33m(\u001b[0m\u001b[1;34m\"Interrupted by user\"\u001b[0m\u001b[1;33m)\u001b[0m \u001b[1;32mfrom\u001b[0m \u001b[1;32mNone\u001b[0m\u001b[1;33m\u001b[0m\u001b[1;33m\u001b[0m\u001b[0m\n\u001b[0m\u001b[0;32m    905\u001b[0m             \u001b[1;32mexcept\u001b[0m \u001b[0mException\u001b[0m \u001b[1;32mas\u001b[0m \u001b[0me\u001b[0m\u001b[1;33m:\u001b[0m\u001b[1;33m\u001b[0m\u001b[1;33m\u001b[0m\u001b[0m\n\u001b[0;32m    906\u001b[0m                 \u001b[0mself\u001b[0m\u001b[1;33m.\u001b[0m\u001b[0mlog\u001b[0m\u001b[1;33m.\u001b[0m\u001b[0mwarning\u001b[0m\u001b[1;33m(\u001b[0m\u001b[1;34m\"Invalid Message:\"\u001b[0m\u001b[1;33m,\u001b[0m \u001b[0mexc_info\u001b[0m\u001b[1;33m=\u001b[0m\u001b[1;32mTrue\u001b[0m\u001b[1;33m)\u001b[0m\u001b[1;33m\u001b[0m\u001b[1;33m\u001b[0m\u001b[0m\n",
      "\u001b[1;31mKeyboardInterrupt\u001b[0m: Interrupted by user"
     ]
    }
   ],
   "source": [
    "def added_new():\n",
    "    add_question_value = input(\"Please add your question here:\\n>>> \").title()\n",
    "    add_question_key = input(\"Please add indicator from F to Z:\\n>>> \").upper()\n",
    "    add_answer_value = input(\"Please add answer key:\\n>>> \").upper()\n",
    "\n",
    "    question_set[add_question_key] = add_question_value \n",
    "    answer_set[add_question_value] = add_answer_value\n",
    "\n",
    "    print(add_question_value)\n",
    "    print(add_question_key)\n",
    "    print(add_answer_value)\n",
    "    print(question_set) #print to check if successfully added to dictionary\n",
    "    print(answer_set) #print to check if successfully added to dictionary\n",
    "    \n",
    "added_new()"
   ]
  },
  {
   "cell_type": "markdown",
   "metadata": {},
   "source": [
    "**Printing ADDED action result to Text file** "
   ]
  },
  {
   "cell_type": "code",
   "execution_count": null,
   "metadata": {},
   "outputs": [],
   "source": [
    "#From new added question import result in text file\n",
    "def add_success():\n",
    "    added_file = open(\"C:\\\\Users\\\\oliva\\\\FTW4-Github-Homework-1\\\\add_new.txt\",\"w\") #file location on where to save\n",
    "    added_file.write(str(question_set))\n",
    "    added_file.close()\n",
    "    \n",
    "add_success()"
   ]
  },
  {
   "cell_type": "markdown",
   "metadata": {},
   "source": [
    "**Def function - Delete Questions**"
   ]
  },
  {
   "cell_type": "code",
   "execution_count": null,
   "metadata": {},
   "outputs": [],
   "source": [
    "def delete():\n",
    "    delete_question_pick = input(\"Please select a question to delete: A B C D E\\n>>> \").upper()\n",
    "    del question_set[delete_question_pick]\n",
    "    print(question_set)\n",
    "\n",
    "delete()"
   ]
  },
  {
   "cell_type": "markdown",
   "metadata": {},
   "source": [
    "**Printing DELETED action result to Text file** "
   ]
  },
  {
   "cell_type": "code",
   "execution_count": null,
   "metadata": {},
   "outputs": [],
   "source": [
    "#From deleted question\n",
    "def delete_success():\n",
    "    delete_file = open(\"C:\\\\Users\\\\oliva\\\\FTW4-Github-Homework-1\\\\delete_new.txt\",\"w\") # use 'a' for appending to a file\n",
    "    delete_file.write(str(question_set))\n",
    "    delete_file.close()\n",
    "    \n",
    "delete_success()"
   ]
  },
  {
   "cell_type": "markdown",
   "metadata": {},
   "source": [
    "**Asking player to select an option to proceed**"
   ]
  },
  {
   "cell_type": "code",
   "execution_count": null,
   "metadata": {},
   "outputs": [],
   "source": [
    "import time #adding delay to transitions\n",
    "\n",
    "intro = input(\"Hi there! What do you want to do? Please choose: A >>Play  B >>Add or Remove  C >>>Quit\\n>>\").upper()\n",
    "print(intro)\n",
    "\n",
    "if intro == \"A\":\n",
    "    player_name1 = input(\"Please tell me your name player 1: \").title()\n",
    "    player_name2 = input(\"Please tell me your name player 2: \").title()\n",
    "    print(\"\")\n",
    "    print(\"Hi there \"+ player_name1+\" and \"+player_name2+\"! Welcome to Movie Trivia.\\n======>>>Let's get started!<<======\")\n",
    "    print(\"\")\n",
    "    time.sleep(1.5)\n",
    "\n",
    "#Asking player 1\n",
    "    print(\"Please choose 2 of your picks, \"+player_name1+\" : A B C D E \")\n",
    "    player1_pick1 = input(\"1st pick: \").upper()\n",
    "    player1_pick2 = input(\"2nd pick: \").upper()\n",
    "\n",
    "    correct_score1 = 0 #Storing score points\n",
    "    no_of_choices1 = [] #Storing count of picks\n",
    "    while len(no_of_choices1) < 2: #Loop will stop when it reaches 2 picks\n",
    "        for key,value in answer_set.items():\n",
    "            First_pick1 = input(\"1st pick: \" + question_set[player1_pick1]).upper()\n",
    "            no_of_choices1.append(First_pick1)\n",
    "            if First_pick1 == value:\n",
    "                correct_score1 += 1\n",
    "                print(\"correct\")\n",
    "                break\n",
    "            else:\n",
    "                correct_score1 += 0 \n",
    "                print(\"wrong\")\n",
    "                break\n",
    "    \n",
    "        for key,value in answer_set.items():\n",
    "            Second_pick1 = input(\"2nd pick: \"+ question_set[player1_pick2]).upper() \n",
    "            no_of_choices1.append(Second_pick1)\n",
    "            if Second_pick1 == value:  \n",
    "                correct_score1 += 1\n",
    "                print(\"correct\")\n",
    "                break\n",
    "            else:\n",
    "                correct_score1 += 0\n",
    "                print(\"wrong\")\n",
    "                break\n",
    "    time.sleep(1.5)\n",
    "\n",
    "#Asking player 2\n",
    "    print(\"Please choose 2 of your picks, \"+player_name2+\" : A B C D E \")\n",
    "    player2_pick1 = input(\"1st pick: \").upper()\n",
    "    player2_pick2 = input(\"2nd pick: \").upper()\n",
    "\n",
    "    correct_score2 = 0 #Storing score points\n",
    "    no_of_choices2 = [] #Storing count of choices\n",
    "    while len(no_of_choices2) < 2: #Loop will stop when it reaches 2 pick\n",
    "        for key,value in answer_set.items():\n",
    "            First_pick2 = input(\"1st pick: \" + question_set[player2_pick1]).upper()\n",
    "            no_of_choices2.append(First_pick2)\n",
    "            if First_pick2 == value:\n",
    "                correct_score2 += 1\n",
    "                print(\"correct\")\n",
    "                break\n",
    "            else:\n",
    "                correct_score2 += 0 \n",
    "                print(\"wrong\")\n",
    "                break\n",
    "    \n",
    "        for key,value in answer_set.items():\n",
    "            Second_pick2 = input(\"2nd pick: \"+ question_set[player2_pick2]).upper() \n",
    "            no_of_choices2.append(Second_pick2)\n",
    "            if Second_pick2 == value:  \n",
    "                correct_score2 += 1\n",
    "                print(\"correct\")\n",
    "                break\n",
    "            else:\n",
    "                correct_score2 += 0\n",
    "                print(\"wrong\")\n",
    "                break\n",
    "    time.sleep(1.5)\n",
    "    print(\"\")\n",
    "    score_player()\n",
    "elif intro == \"B\":\n",
    "    ask_again = input(\"Please choose yor action: A >>Add new question  B >> Delete question\\n>>> \").upper()\n",
    "    if ask_again == \"A\":\n",
    "        added_new()\n",
    "        add_success()\n",
    "        print(\"\\nSuccessfully added!\")\n",
    "    elif ask_again == \"B\":\n",
    "        delete()\n",
    "        delete_success()\n",
    "        print(\"\\nSuccessfully deleted\")  \n",
    "    elif intro == \"C\":\n",
    "        print(\"Thank you!\")\n",
    "    else:\n",
    "        print(\"Please enter valid option\") "
   ]
  },
  {
   "cell_type": "code",
   "execution_count": null,
   "metadata": {},
   "outputs": [],
   "source": [
    "C"
   ]
  }
 ],
 "metadata": {
  "kernelspec": {
   "display_name": "Python 3",
   "language": "python",
   "name": "python3"
  },
  "language_info": {
   "codemirror_mode": {
    "name": "ipython",
    "version": 3
   },
   "file_extension": ".py",
   "mimetype": "text/x-python",
   "name": "python",
   "nbconvert_exporter": "python",
   "pygments_lexer": "ipython3",
   "version": "3.8.3"
  }
 },
 "nbformat": 4,
 "nbformat_minor": 4
}
